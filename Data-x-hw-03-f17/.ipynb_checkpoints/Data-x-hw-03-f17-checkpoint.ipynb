{
 "cells": [
  {
   "cell_type": "markdown",
   "metadata": {},
   "source": [
    "![data-x](http://oi64.tinypic.com/o858n4.jpg)\n",
    "\n",
    "___"
   ]
  },
  {
   "cell_type": "markdown",
   "metadata": {},
   "source": [
    "## Homework 03\n",
    "\n",
    "__ Any Questions__:  \n",
    "--Google!  \n",
    "--Discuss with peers, post questions on the class Piazza (https://piazza.com/class/j6o5l788o874i)  \n",
    "--Come to Office Hours on Tuesday 11am to 12 pm in Etcheverry 4176B. \n",
    "\n",
    "__Submission__:  \n",
    "Submit on bcourses as directed in the assignment instructions."
   ]
  },
  {
   "cell_type": "code",
   "execution_count": 1,
   "metadata": {
    "collapsed": true
   },
   "outputs": [],
   "source": [
    "# Load required modules\n",
    "import pandas as pd\n",
    "import numpy as np\n",
    "import matplotlib.pyplot as plt\n",
    "\n"
   ]
  },
  {
   "cell_type": "markdown",
   "metadata": {},
   "source": [
    "# Reading File\n",
    "\n",
    "### 1) Read in a CSV file called 'data3.csv' into a dataframe called df.\n",
    "### Data description\n",
    "* Data source: http://www.fao.org/nr/water/aquastat/data/query/index.html?* lang=en\n",
    "* Data, units:\n",
    "* GDP, current USD (CPI adjusted)\n",
    "* NRI, mm/yr\n",
    "* Population density, inhab/km^2\n",
    "* Total area of the country, 1000 ha = 10km^2\n",
    "* Total Population, unit 1000 inhabitants\n",
    "\n",
    "### 2.1 ) Display the first 10 lines of the dataframe\n",
    "### 2.1 ) Display the column names."
   ]
  },
  {
   "cell_type": "code",
   "execution_count": 18,
   "metadata": {
    "collapsed": false
   },
   "outputs": [
    {
     "name": "stdout",
     "output_type": "stream",
     "text": [
      "        Area  Area Id              Variable Name  Variable Id    Year  \\\n",
      "0  Argentina      9.0  Total area of the country       4100.0  1962.0   \n",
      "1  Argentina      9.0  Total area of the country       4100.0  1967.0   \n",
      "2  Argentina      9.0  Total area of the country       4100.0  1972.0   \n",
      "3  Argentina      9.0  Total area of the country       4100.0  1977.0   \n",
      "4  Argentina      9.0  Total area of the country       4100.0  1982.0   \n",
      "5  Argentina      9.0  Total area of the country       4100.0  1987.0   \n",
      "6  Argentina      9.0  Total area of the country       4100.0  1992.0   \n",
      "7  Argentina      9.0  Total area of the country       4100.0  1997.0   \n",
      "8  Argentina      9.0  Total area of the country       4100.0  2002.0   \n",
      "9  Argentina      9.0  Total area of the country       4100.0  2007.0   \n",
      "\n",
      "      Value Symbol  Other  \n",
      "0  278040.0      E    NaN  \n",
      "1  278040.0      E    NaN  \n",
      "2  278040.0      E    NaN  \n",
      "3  278040.0      E    NaN  \n",
      "4  278040.0      E    NaN  \n",
      "5  278040.0      E    NaN  \n",
      "6  278040.0      E    NaN  \n",
      "7  278040.0      E    NaN  \n",
      "8  278040.0      E    NaN  \n",
      "9  278040.0      E    NaN  \n",
      "\n",
      "column names\n",
      "['Area', 'Area Id', 'Variable Name', 'Variable Id', 'Year', 'Value', 'Symbol', 'Other']\n"
     ]
    }
   ],
   "source": [
    "df = pd.read_csv('data3.csv')\n",
    "print(df.head(10))\n",
    "print()\n",
    "print('column names')\n",
    "print(list(df))"
   ]
  },
  {
   "cell_type": "markdown",
   "metadata": {},
   "source": [
    "# Data Preprocessing\n",
    "\n",
    "### 3.1 ) Create a mask of NAN values(  i.e. apply .isnull on the dataframe). Inspect the mask for 'True' values, they denote NANs. \n",
    "#### Hint: [ You will notice that the last  8 rows and the last column ('Other') have NAN values.You can also use df.tail() to see the last lines.]\n",
    "\n",
    "### 3.2 )  Now, we will try to get rid of the NaN valued rows and columns. Remove the bottom 8 rows from the dataframe. Also remove the column 'Other'."
   ]
  },
  {
   "cell_type": "code",
   "execution_count": 19,
   "metadata": {
    "collapsed": false
   },
   "outputs": [
    {
     "data": {
      "text/html": [
       "<div>\n",
       "<table border=\"1\" class=\"dataframe\">\n",
       "  <thead>\n",
       "    <tr style=\"text-align: right;\">\n",
       "      <th></th>\n",
       "      <th>Area</th>\n",
       "      <th>Area Id</th>\n",
       "      <th>Variable Name</th>\n",
       "      <th>Variable Id</th>\n",
       "      <th>Year</th>\n",
       "      <th>Value</th>\n",
       "      <th>Symbol</th>\n",
       "    </tr>\n",
       "  </thead>\n",
       "  <tbody>\n",
       "    <tr>\n",
       "      <th>0</th>\n",
       "      <td>Argentina</td>\n",
       "      <td>9.0</td>\n",
       "      <td>Total area of the country</td>\n",
       "      <td>4100.0</td>\n",
       "      <td>1962.0</td>\n",
       "      <td>278040.0</td>\n",
       "      <td>E</td>\n",
       "    </tr>\n",
       "    <tr>\n",
       "      <th>1</th>\n",
       "      <td>Argentina</td>\n",
       "      <td>9.0</td>\n",
       "      <td>Total area of the country</td>\n",
       "      <td>4100.0</td>\n",
       "      <td>1967.0</td>\n",
       "      <td>278040.0</td>\n",
       "      <td>E</td>\n",
       "    </tr>\n",
       "    <tr>\n",
       "      <th>2</th>\n",
       "      <td>Argentina</td>\n",
       "      <td>9.0</td>\n",
       "      <td>Total area of the country</td>\n",
       "      <td>4100.0</td>\n",
       "      <td>1972.0</td>\n",
       "      <td>278040.0</td>\n",
       "      <td>E</td>\n",
       "    </tr>\n",
       "    <tr>\n",
       "      <th>3</th>\n",
       "      <td>Argentina</td>\n",
       "      <td>9.0</td>\n",
       "      <td>Total area of the country</td>\n",
       "      <td>4100.0</td>\n",
       "      <td>1977.0</td>\n",
       "      <td>278040.0</td>\n",
       "      <td>E</td>\n",
       "    </tr>\n",
       "    <tr>\n",
       "      <th>4</th>\n",
       "      <td>Argentina</td>\n",
       "      <td>9.0</td>\n",
       "      <td>Total area of the country</td>\n",
       "      <td>4100.0</td>\n",
       "      <td>1982.0</td>\n",
       "      <td>278040.0</td>\n",
       "      <td>E</td>\n",
       "    </tr>\n",
       "  </tbody>\n",
       "</table>\n",
       "</div>"
      ],
      "text/plain": [
       "        Area  Area Id              Variable Name  Variable Id    Year  \\\n",
       "0  Argentina      9.0  Total area of the country       4100.0  1962.0   \n",
       "1  Argentina      9.0  Total area of the country       4100.0  1967.0   \n",
       "2  Argentina      9.0  Total area of the country       4100.0  1972.0   \n",
       "3  Argentina      9.0  Total area of the country       4100.0  1977.0   \n",
       "4  Argentina      9.0  Total area of the country       4100.0  1982.0   \n",
       "\n",
       "      Value Symbol  \n",
       "0  278040.0      E  \n",
       "1  278040.0      E  \n",
       "2  278040.0      E  \n",
       "3  278040.0      E  \n",
       "4  278040.0      E  "
      ]
     },
     "execution_count": 19,
     "metadata": {},
     "output_type": "execute_result"
    }
   ],
   "source": [
    "mask = df.isnull()\n",
    "df = df[:-8]\n",
    "df = df.drop(df[['Other']], axis=1)\n",
    "df.head(5)"
   ]
  },
  {
   "cell_type": "markdown",
   "metadata": {},
   "source": [
    "### 4.1) For our analysis we do not want all the columns in our dataframe. Lets  drop all the redundant columns/ features.   \n",
    "### **Drop columns**: **Area Id, Variable Id, Symbol**. Save the new dataframe as df1.  \n"
   ]
  },
  {
   "cell_type": "code",
   "execution_count": 23,
   "metadata": {
    "collapsed": false
   },
   "outputs": [
    {
     "data": {
      "text/html": [
       "<div>\n",
       "<table border=\"1\" class=\"dataframe\">\n",
       "  <thead>\n",
       "    <tr style=\"text-align: right;\">\n",
       "      <th></th>\n",
       "      <th>Area</th>\n",
       "      <th>Variable Name</th>\n",
       "      <th>Year</th>\n",
       "      <th>Value</th>\n",
       "    </tr>\n",
       "  </thead>\n",
       "  <tbody>\n",
       "    <tr>\n",
       "      <th>0</th>\n",
       "      <td>Argentina</td>\n",
       "      <td>Total area of the country</td>\n",
       "      <td>1962.0</td>\n",
       "      <td>278040.0</td>\n",
       "    </tr>\n",
       "    <tr>\n",
       "      <th>1</th>\n",
       "      <td>Argentina</td>\n",
       "      <td>Total area of the country</td>\n",
       "      <td>1967.0</td>\n",
       "      <td>278040.0</td>\n",
       "    </tr>\n",
       "    <tr>\n",
       "      <th>2</th>\n",
       "      <td>Argentina</td>\n",
       "      <td>Total area of the country</td>\n",
       "      <td>1972.0</td>\n",
       "      <td>278040.0</td>\n",
       "    </tr>\n",
       "    <tr>\n",
       "      <th>3</th>\n",
       "      <td>Argentina</td>\n",
       "      <td>Total area of the country</td>\n",
       "      <td>1977.0</td>\n",
       "      <td>278040.0</td>\n",
       "    </tr>\n",
       "    <tr>\n",
       "      <th>4</th>\n",
       "      <td>Argentina</td>\n",
       "      <td>Total area of the country</td>\n",
       "      <td>1982.0</td>\n",
       "      <td>278040.0</td>\n",
       "    </tr>\n",
       "  </tbody>\n",
       "</table>\n",
       "</div>"
      ],
      "text/plain": [
       "        Area              Variable Name    Year     Value\n",
       "0  Argentina  Total area of the country  1962.0  278040.0\n",
       "1  Argentina  Total area of the country  1967.0  278040.0\n",
       "2  Argentina  Total area of the country  1972.0  278040.0\n",
       "3  Argentina  Total area of the country  1977.0  278040.0\n",
       "4  Argentina  Total area of the country  1982.0  278040.0"
      ]
     },
     "execution_count": 23,
     "metadata": {},
     "output_type": "execute_result"
    }
   ],
   "source": [
    "df1 = df.drop(df[['Area Id', 'Variable Id', 'Symbol']], axis=1)\n",
    "df1.head(5)"
   ]
  },
  {
   "cell_type": "markdown",
   "metadata": {},
   "source": [
    "### 4.2) Display all the unique values in your new dataframe for column: Area, Variable Name, Year.\n",
    "### Note the Countries and the Metrics (ie.recorded variables)  represented in your dataset.\n",
    "Hint: Use .unique( ) method."
   ]
  },
  {
   "cell_type": "code",
   "execution_count": 30,
   "metadata": {
    "collapsed": false
   },
   "outputs": [
    {
     "name": "stdout",
     "output_type": "stream",
     "text": [
      "unique area\n",
      "['Argentina' 'Australia' 'Germany' 'Iceland' 'Ireland' 'Sweden'\n",
      " 'United States of America']\n",
      "\n",
      "unique name\n",
      "['Total area of the country' 'Total population' 'Population density'\n",
      " 'Gross Domestic Product (GDP)' 'National Rainfall Index (NRI)']\n",
      "\n",
      "Unique year\n",
      "[ 1962.  1967.  1972.  1977.  1982.  1987.  1992.  1997.  2002.  2007.\n",
      "  2012.  2014.  2015.  1963.  1970.  1974.  1978.  1984.  1990.  1964.\n",
      "  1981.  1985.  1996.  2001.  1969.  1973.  1979.  1993.  1971.  1975.\n",
      "  1986.  1991.  1998.  2000.  1965.  1983.  1988.  1995.]\n"
     ]
    }
   ],
   "source": [
    "print('unique area')\n",
    "print(df1['Area'].unique())\n",
    "print()\n",
    "print('unique name')\n",
    "print(df1['Variable Name'].unique())\n",
    "print()\n",
    "print('Unique year')\n",
    "print(df1['Year'].unique())"
   ]
  },
  {
   "cell_type": "markdown",
   "metadata": {},
   "source": [
    "### 5) Convert the year column to pandas datetime.\n",
    "\n",
    "Convert the 'Year' column string values to pandas datetime objects, where only the year is specified.  \n",
    "_Hint_:  \n",
    "df1['Year'] = pd.to_datetime(pd.Series(df1['Year']).astype(int),format='%Y').dt.year  \n",
    "##### Run df1.tail() to see if you get what you expect"
   ]
  },
  {
   "cell_type": "code",
   "execution_count": 33,
   "metadata": {
    "collapsed": false
   },
   "outputs": [
    {
     "data": {
      "text/html": [
       "<div>\n",
       "<table border=\"1\" class=\"dataframe\">\n",
       "  <thead>\n",
       "    <tr style=\"text-align: right;\">\n",
       "      <th></th>\n",
       "      <th>Area</th>\n",
       "      <th>Variable Name</th>\n",
       "      <th>Year</th>\n",
       "      <th>Value</th>\n",
       "    </tr>\n",
       "  </thead>\n",
       "  <tbody>\n",
       "    <tr>\n",
       "      <th>387</th>\n",
       "      <td>United States of America</td>\n",
       "      <td>National Rainfall Index (NRI)</td>\n",
       "      <td>1992</td>\n",
       "      <td>1020.0</td>\n",
       "    </tr>\n",
       "    <tr>\n",
       "      <th>388</th>\n",
       "      <td>United States of America</td>\n",
       "      <td>National Rainfall Index (NRI)</td>\n",
       "      <td>1996</td>\n",
       "      <td>1005.0</td>\n",
       "    </tr>\n",
       "    <tr>\n",
       "      <th>389</th>\n",
       "      <td>United States of America</td>\n",
       "      <td>National Rainfall Index (NRI)</td>\n",
       "      <td>2002</td>\n",
       "      <td>938.7</td>\n",
       "    </tr>\n",
       "  </tbody>\n",
       "</table>\n",
       "</div>"
      ],
      "text/plain": [
       "                         Area                  Variable Name  Year   Value\n",
       "387  United States of America  National Rainfall Index (NRI)  1992  1020.0\n",
       "388  United States of America  National Rainfall Index (NRI)  1996  1005.0\n",
       "389  United States of America  National Rainfall Index (NRI)  2002   938.7"
      ]
     },
     "execution_count": 33,
     "metadata": {},
     "output_type": "execute_result"
    }
   ],
   "source": [
    "df1['Year'] = pd.to_datetime(pd.Series(df1['Year']).astype(int),format='%Y').dt.year\n",
    "df1.tail(3)"
   ]
  },
  {
   "cell_type": "markdown",
   "metadata": {},
   "source": [
    "# Extract specific statistics from the preprocessed data:\n",
    "\n",
    "### 6)  Create a dataframe 'dftemp' to store rows where Area is Iceland."
   ]
  },
  {
   "cell_type": "code",
   "execution_count": 34,
   "metadata": {
    "collapsed": false
   },
   "outputs": [
    {
     "name": "stdout",
     "output_type": "stream",
     "text": [
      "        Area                  Variable Name  Year         Value\n",
      "166  Iceland      Total area of the country  1962  1.030000e+04\n",
      "167  Iceland      Total area of the country  1967  1.030000e+04\n",
      "168  Iceland      Total area of the country  1972  1.030000e+04\n",
      "169  Iceland      Total area of the country  1977  1.030000e+04\n",
      "170  Iceland      Total area of the country  1982  1.030000e+04\n",
      "171  Iceland      Total area of the country  1987  1.030000e+04\n",
      "172  Iceland      Total area of the country  1992  1.030000e+04\n",
      "173  Iceland      Total area of the country  1997  1.030000e+04\n",
      "174  Iceland      Total area of the country  2002  1.030000e+04\n",
      "175  Iceland      Total area of the country  2007  1.030000e+04\n",
      "176  Iceland      Total area of the country  2012  1.030000e+04\n",
      "177  Iceland      Total area of the country  2014  1.030000e+04\n",
      "178  Iceland               Total population  1962  1.826000e+02\n",
      "179  Iceland               Total population  1967  1.974000e+02\n",
      "180  Iceland               Total population  1972  2.099000e+02\n",
      "181  Iceland               Total population  1977  2.221000e+02\n",
      "182  Iceland               Total population  1982  2.331000e+02\n",
      "183  Iceland               Total population  1987  2.469000e+02\n",
      "184  Iceland               Total population  1992  2.599000e+02\n",
      "185  Iceland               Total population  1997  2.728000e+02\n",
      "186  Iceland               Total population  2002  2.869000e+02\n",
      "187  Iceland               Total population  2007  3.054000e+02\n",
      "188  Iceland               Total population  2012  3.234000e+02\n",
      "189  Iceland               Total population  2015  3.294000e+02\n",
      "190  Iceland             Population density  1962  1.773000e+00\n",
      "191  Iceland             Population density  1967  1.917000e+00\n",
      "192  Iceland             Population density  1972  2.038000e+00\n",
      "193  Iceland             Population density  1977  2.156000e+00\n",
      "194  Iceland             Population density  1982  2.263000e+00\n",
      "195  Iceland             Population density  1987  2.397000e+00\n",
      "196  Iceland             Population density  1992  2.523000e+00\n",
      "197  Iceland             Population density  1997  2.649000e+00\n",
      "198  Iceland             Population density  2002  2.785000e+00\n",
      "199  Iceland             Population density  2007  2.965000e+00\n",
      "200  Iceland             Population density  2012  3.140000e+00\n",
      "201  Iceland             Population density  2015  3.198000e+00\n",
      "202  Iceland   Gross Domestic Product (GDP)  1962  2.849165e+08\n",
      "203  Iceland   Gross Domestic Product (GDP)  1967  6.212260e+08\n",
      "204  Iceland   Gross Domestic Product (GDP)  1972  8.465069e+08\n",
      "205  Iceland   Gross Domestic Product (GDP)  1977  2.226539e+09\n",
      "206  Iceland   Gross Domestic Product (GDP)  1982  3.232804e+09\n",
      "207  Iceland   Gross Domestic Product (GDP)  1987  5.565384e+09\n",
      "208  Iceland   Gross Domestic Product (GDP)  1992  7.138788e+09\n",
      "209  Iceland   Gross Domestic Product (GDP)  1997  7.596126e+09\n",
      "210  Iceland   Gross Domestic Product (GDP)  2002  9.161798e+09\n",
      "211  Iceland   Gross Domestic Product (GDP)  2007  2.129384e+10\n",
      "212  Iceland   Gross Domestic Product (GDP)  2012  1.419452e+10\n",
      "213  Iceland   Gross Domestic Product (GDP)  2015  1.659849e+10\n",
      "214  Iceland  National Rainfall Index (NRI)  1967  8.160000e+02\n",
      "215  Iceland  National Rainfall Index (NRI)  1971  9.632000e+02\n",
      "216  Iceland  National Rainfall Index (NRI)  1975  1.010000e+03\n",
      "217  Iceland  National Rainfall Index (NRI)  1981  9.326000e+02\n",
      "218  Iceland  National Rainfall Index (NRI)  1986  9.685000e+02\n",
      "219  Iceland  National Rainfall Index (NRI)  1991  1.095000e+03\n",
      "220  Iceland  National Rainfall Index (NRI)  1997  9.932000e+02\n",
      "221  Iceland  National Rainfall Index (NRI)  1998  9.234000e+02\n"
     ]
    }
   ],
   "source": [
    "dftemp = df1[df1.Area=='Iceland']\n",
    "print(dftemp)"
   ]
  },
  {
   "cell_type": "markdown",
   "metadata": {},
   "source": [
    "### 7) Print the years when the National Rainfall Index (NRI) was greater than 950 or less than 900 in Iceland. Use the dataframe you created in the previous question 'dftemp'."
   ]
  },
  {
   "cell_type": "code",
   "execution_count": 38,
   "metadata": {
    "collapsed": false
   },
   "outputs": [
    {
     "name": "stdout",
     "output_type": "stream",
     "text": [
      "[1962 1967 1972 1977 1982 1987 1992 1997 2002 2007 2012 2014 2015 1971 1975\n",
      " 1986 1991]\n"
     ]
    }
   ],
   "source": [
    "print(dftemp['Year'][((df.Value<900)|(df.Value>950))].unique())"
   ]
  },
  {
   "cell_type": "markdown",
   "metadata": {},
   "source": [
    "# US statistics: \n",
    "## 8) Get all the rows of df1 (preprocessed dataframe) area is United States of America \n",
    "\n",
    "### 1) Create a new DataFrame called **`df_usa`** that only contains values where 'Area' is equal to 'United States of America'. Set the indices to be the 'Year' column    ( Use .set_index( ) )\n",
    "\n",
    "### 2) Pivot the DataFrame so that the unique 'Variable Name' entries becomes the column entries. The DataFrame values should be the ones in the the 'Value' column. Do this by running the three lines of code below:\n",
    "\n",
    "#### `df_usa=df_usa.pivot(columns='Variable Name',values='Value')`\n",
    "\n",
    "### 3)  Display df_usa.head( ), rename  new columns to  ['GDP','NRI','PD','Area','Population']\n",
    "\n",
    "\n",
    "\n"
   ]
  },
  {
   "cell_type": "code",
   "execution_count": 79,
   "metadata": {
    "collapsed": false
   },
   "outputs": [
    {
     "data": {
      "text/html": [
       "<div>\n",
       "<table border=\"1\" class=\"dataframe\">\n",
       "  <thead>\n",
       "    <tr style=\"text-align: right;\">\n",
       "      <th>Variable Name</th>\n",
       "      <th>GDP</th>\n",
       "      <th>NRI</th>\n",
       "      <th>PD</th>\n",
       "      <th>Area</th>\n",
       "      <th>Population</th>\n",
       "    </tr>\n",
       "    <tr>\n",
       "      <th>Year</th>\n",
       "      <th></th>\n",
       "      <th></th>\n",
       "      <th></th>\n",
       "      <th></th>\n",
       "      <th></th>\n",
       "    </tr>\n",
       "  </thead>\n",
       "  <tbody>\n",
       "    <tr>\n",
       "      <th>1962</th>\n",
       "      <td>6.050000e+11</td>\n",
       "      <td>NaN</td>\n",
       "      <td>19.93</td>\n",
       "      <td>962909.0</td>\n",
       "      <td>191861.0</td>\n",
       "    </tr>\n",
       "    <tr>\n",
       "      <th>1965</th>\n",
       "      <td>NaN</td>\n",
       "      <td>928.5</td>\n",
       "      <td>NaN</td>\n",
       "      <td>NaN</td>\n",
       "      <td>NaN</td>\n",
       "    </tr>\n",
       "    <tr>\n",
       "      <th>1967</th>\n",
       "      <td>8.620000e+11</td>\n",
       "      <td>NaN</td>\n",
       "      <td>21.16</td>\n",
       "      <td>962909.0</td>\n",
       "      <td>203713.0</td>\n",
       "    </tr>\n",
       "    <tr>\n",
       "      <th>1969</th>\n",
       "      <td>NaN</td>\n",
       "      <td>952.2</td>\n",
       "      <td>NaN</td>\n",
       "      <td>NaN</td>\n",
       "      <td>NaN</td>\n",
       "    </tr>\n",
       "  </tbody>\n",
       "</table>\n",
       "</div>"
      ],
      "text/plain": [
       "Variable Name           GDP    NRI     PD      Area  Population\n",
       "Year                                                           \n",
       "1962           6.050000e+11    NaN  19.93  962909.0    191861.0\n",
       "1965                    NaN  928.5    NaN       NaN         NaN\n",
       "1967           8.620000e+11    NaN  21.16  962909.0    203713.0\n",
       "1969                    NaN  952.2    NaN       NaN         NaN"
      ]
     },
     "execution_count": 79,
     "metadata": {},
     "output_type": "execute_result"
    }
   ],
   "source": [
    "df_usa = df1[df1.Area == 'United States of America'].set_index('Year')\n",
    "df_usa=df_usa.pivot(columns='Variable Name',values='Value')\n",
    "df_usa = df_usa.rename(index=str, columns = {'Gross Domestic Product (GDP)':'GDP', 'National Rainfall Index (NRI)': 'NRI', 'Population density': 'PD', 'Total area of the country':'Area', 'Total population': 'Population'})\n",
    "df_usa.head(4)"
   ]
  },
  {
   "cell_type": "markdown",
   "metadata": {},
   "source": [
    "### 4) Find `df_usa.isnull().sum()`.This gives us the number of NAN values in each column. Replace NAN values by 0, using `df_usa=df_usa.fillna(0)`. Again check `df_usa.isnull().sum()`.'\n",
    " "
   ]
  },
  {
   "cell_type": "code",
   "execution_count": 80,
   "metadata": {
    "collapsed": false
   },
   "outputs": [
    {
     "data": {
      "text/plain": [
       "Variable Name\n",
       "GDP           0\n",
       "NRI           0\n",
       "PD            0\n",
       "Area          0\n",
       "Population    0\n",
       "dtype: int64"
      ]
     },
     "execution_count": 80,
     "metadata": {},
     "output_type": "execute_result"
    }
   ],
   "source": [
    "df_usa.isnull().sum()\n",
    "df_usa_nonNan=df_usa.fillna(0)\n",
    "df_usa_nonNan.isnull().sum()"
   ]
  },
  {
   "cell_type": "markdown",
   "metadata": {},
   "source": [
    "### 5) Calculate and print all the column averages and the column standard deviations.\n"
   ]
  },
  {
   "cell_type": "code",
   "execution_count": 81,
   "metadata": {
    "collapsed": false
   },
   "outputs": [
    {
     "name": "stdout",
     "output_type": "stream",
     "text": [
      "I calculate the mean and std of metric with NAN value instead of 0\n"
     ]
    },
    {
     "data": {
      "text/html": [
       "<div>\n",
       "<table border=\"1\" class=\"dataframe\">\n",
       "  <thead>\n",
       "    <tr style=\"text-align: right;\">\n",
       "      <th>Variable Name</th>\n",
       "      <th>GDP</th>\n",
       "      <th>NRI</th>\n",
       "      <th>PD</th>\n",
       "      <th>Area</th>\n",
       "      <th>Population</th>\n",
       "    </tr>\n",
       "  </thead>\n",
       "  <tbody>\n",
       "    <tr>\n",
       "      <th>mean</th>\n",
       "      <td>7.316417e+12</td>\n",
       "      <td>972.025000</td>\n",
       "      <td>26.444167</td>\n",
       "      <td>966331.666667</td>\n",
       "      <td>255729.583333</td>\n",
       "    </tr>\n",
       "    <tr>\n",
       "      <th>std</th>\n",
       "      <td>6.256868e+12</td>\n",
       "      <td>35.068861</td>\n",
       "      <td>4.425996</td>\n",
       "      <td>7857.100059</td>\n",
       "      <td>44281.029610</td>\n",
       "    </tr>\n",
       "  </tbody>\n",
       "</table>\n",
       "</div>"
      ],
      "text/plain": [
       "Variable Name           GDP         NRI         PD           Area  \\\n",
       "mean           7.316417e+12  972.025000  26.444167  966331.666667   \n",
       "std            6.256868e+12   35.068861   4.425996    7857.100059   \n",
       "\n",
       "Variable Name     Population  \n",
       "mean           255729.583333  \n",
       "std             44281.029610  "
      ]
     },
     "execution_count": 81,
     "metadata": {},
     "output_type": "execute_result"
    }
   ],
   "source": [
    "print('I calculate the mean and std of metric with NAN value instead of 0')\n",
    "metric = df_usa.describe()\n",
    "metric.loc[('mean','std'),:]"
   ]
  },
  {
   "cell_type": "markdown",
   "metadata": {},
   "source": [
    "## 9) Use df_usa:\n",
    "\n",
    "### 1: Multiply the Area  by 10 (so instead of 1000 ha, the unit becomes 100 ha = 1km^2)\n",
    "\n",
    "\n",
    "\n"
   ]
  },
  {
   "cell_type": "code",
   "execution_count": 82,
   "metadata": {
    "collapsed": false
   },
   "outputs": [
    {
     "data": {
      "text/html": [
       "<div>\n",
       "<table border=\"1\" class=\"dataframe\">\n",
       "  <thead>\n",
       "    <tr style=\"text-align: right;\">\n",
       "      <th>Variable Name</th>\n",
       "      <th>GDP</th>\n",
       "      <th>NRI</th>\n",
       "      <th>PD</th>\n",
       "      <th>Area</th>\n",
       "      <th>Population</th>\n",
       "    </tr>\n",
       "    <tr>\n",
       "      <th>Year</th>\n",
       "      <th></th>\n",
       "      <th></th>\n",
       "      <th></th>\n",
       "      <th></th>\n",
       "      <th></th>\n",
       "    </tr>\n",
       "  </thead>\n",
       "  <tbody>\n",
       "    <tr>\n",
       "      <th>1962</th>\n",
       "      <td>6.050000e+11</td>\n",
       "      <td>NaN</td>\n",
       "      <td>19.93</td>\n",
       "      <td>9629090.0</td>\n",
       "      <td>191861.0</td>\n",
       "    </tr>\n",
       "    <tr>\n",
       "      <th>1965</th>\n",
       "      <td>NaN</td>\n",
       "      <td>928.5</td>\n",
       "      <td>NaN</td>\n",
       "      <td>NaN</td>\n",
       "      <td>NaN</td>\n",
       "    </tr>\n",
       "    <tr>\n",
       "      <th>1967</th>\n",
       "      <td>8.620000e+11</td>\n",
       "      <td>NaN</td>\n",
       "      <td>21.16</td>\n",
       "      <td>9629090.0</td>\n",
       "      <td>203713.0</td>\n",
       "    </tr>\n",
       "    <tr>\n",
       "      <th>1969</th>\n",
       "      <td>NaN</td>\n",
       "      <td>952.2</td>\n",
       "      <td>NaN</td>\n",
       "      <td>NaN</td>\n",
       "      <td>NaN</td>\n",
       "    </tr>\n",
       "    <tr>\n",
       "      <th>1972</th>\n",
       "      <td>1.280000e+12</td>\n",
       "      <td>NaN</td>\n",
       "      <td>22.14</td>\n",
       "      <td>9629090.0</td>\n",
       "      <td>213220.0</td>\n",
       "    </tr>\n",
       "  </tbody>\n",
       "</table>\n",
       "</div>"
      ],
      "text/plain": [
       "Variable Name           GDP    NRI     PD       Area  Population\n",
       "Year                                                            \n",
       "1962           6.050000e+11    NaN  19.93  9629090.0    191861.0\n",
       "1965                    NaN  928.5    NaN        NaN         NaN\n",
       "1967           8.620000e+11    NaN  21.16  9629090.0    203713.0\n",
       "1969                    NaN  952.2    NaN        NaN         NaN\n",
       "1972           1.280000e+12    NaN  22.14  9629090.0    213220.0"
      ]
     },
     "execution_count": 82,
     "metadata": {},
     "output_type": "execute_result"
    }
   ],
   "source": [
    "df_usa['Area'] = df_usa['Area']*10\n",
    "df_usa.head(5)"
   ]
  },
  {
   "cell_type": "markdown",
   "metadata": {},
   "source": [
    "### 2: Create a new column in df_us called 'GDP/capita' and populate it with the calculated GDP per capita. Round the results to two decimal points.\n",
    "\n",
    "\n"
   ]
  },
  {
   "cell_type": "code",
   "execution_count": 90,
   "metadata": {
    "collapsed": false
   },
   "outputs": [
    {
     "data": {
      "text/html": [
       "<div>\n",
       "<table border=\"1\" class=\"dataframe\">\n",
       "  <thead>\n",
       "    <tr style=\"text-align: right;\">\n",
       "      <th>Variable Name</th>\n",
       "      <th>GDP</th>\n",
       "      <th>NRI</th>\n",
       "      <th>PD</th>\n",
       "      <th>Area</th>\n",
       "      <th>Population</th>\n",
       "      <th>GDP/capita</th>\n",
       "      <th>PD2</th>\n",
       "    </tr>\n",
       "    <tr>\n",
       "      <th>Year</th>\n",
       "      <th></th>\n",
       "      <th></th>\n",
       "      <th></th>\n",
       "      <th></th>\n",
       "      <th></th>\n",
       "      <th></th>\n",
       "      <th></th>\n",
       "    </tr>\n",
       "  </thead>\n",
       "  <tbody>\n",
       "    <tr>\n",
       "      <th>1962</th>\n",
       "      <td>6.050000e+11</td>\n",
       "      <td>NaN</td>\n",
       "      <td>19.93</td>\n",
       "      <td>9629090.0</td>\n",
       "      <td>191861.0</td>\n",
       "      <td>3153.324542</td>\n",
       "      <td>0.02</td>\n",
       "    </tr>\n",
       "    <tr>\n",
       "      <th>1965</th>\n",
       "      <td>NaN</td>\n",
       "      <td>928.5</td>\n",
       "      <td>NaN</td>\n",
       "      <td>NaN</td>\n",
       "      <td>NaN</td>\n",
       "      <td>NaN</td>\n",
       "      <td>NaN</td>\n",
       "    </tr>\n",
       "    <tr>\n",
       "      <th>1967</th>\n",
       "      <td>8.620000e+11</td>\n",
       "      <td>NaN</td>\n",
       "      <td>21.16</td>\n",
       "      <td>9629090.0</td>\n",
       "      <td>203713.0</td>\n",
       "      <td>4231.443256</td>\n",
       "      <td>0.02</td>\n",
       "    </tr>\n",
       "    <tr>\n",
       "      <th>1969</th>\n",
       "      <td>NaN</td>\n",
       "      <td>952.2</td>\n",
       "      <td>NaN</td>\n",
       "      <td>NaN</td>\n",
       "      <td>NaN</td>\n",
       "      <td>NaN</td>\n",
       "      <td>NaN</td>\n",
       "    </tr>\n",
       "    <tr>\n",
       "      <th>1972</th>\n",
       "      <td>1.280000e+12</td>\n",
       "      <td>NaN</td>\n",
       "      <td>22.14</td>\n",
       "      <td>9629090.0</td>\n",
       "      <td>213220.0</td>\n",
       "      <td>6003.189194</td>\n",
       "      <td>0.02</td>\n",
       "    </tr>\n",
       "    <tr>\n",
       "      <th>1974</th>\n",
       "      <td>NaN</td>\n",
       "      <td>1008.0</td>\n",
       "      <td>NaN</td>\n",
       "      <td>NaN</td>\n",
       "      <td>NaN</td>\n",
       "      <td>NaN</td>\n",
       "      <td>NaN</td>\n",
       "    </tr>\n",
       "    <tr>\n",
       "      <th>1977</th>\n",
       "      <td>2.090000e+12</td>\n",
       "      <td>NaN</td>\n",
       "      <td>23.17</td>\n",
       "      <td>9629090.0</td>\n",
       "      <td>223091.0</td>\n",
       "      <td>9368.374341</td>\n",
       "      <td>0.02</td>\n",
       "    </tr>\n",
       "    <tr>\n",
       "      <th>1981</th>\n",
       "      <td>NaN</td>\n",
       "      <td>949.2</td>\n",
       "      <td>NaN</td>\n",
       "      <td>NaN</td>\n",
       "      <td>NaN</td>\n",
       "      <td>NaN</td>\n",
       "      <td>NaN</td>\n",
       "    </tr>\n",
       "    <tr>\n",
       "      <th>1982</th>\n",
       "      <td>3.340000e+12</td>\n",
       "      <td>NaN</td>\n",
       "      <td>24.30</td>\n",
       "      <td>9629090.0</td>\n",
       "      <td>233954.0</td>\n",
       "      <td>14276.310728</td>\n",
       "      <td>0.02</td>\n",
       "    </tr>\n",
       "    <tr>\n",
       "      <th>1984</th>\n",
       "      <td>NaN</td>\n",
       "      <td>974.6</td>\n",
       "      <td>NaN</td>\n",
       "      <td>NaN</td>\n",
       "      <td>NaN</td>\n",
       "      <td>NaN</td>\n",
       "      <td>NaN</td>\n",
       "    </tr>\n",
       "    <tr>\n",
       "      <th>1987</th>\n",
       "      <td>4.870000e+12</td>\n",
       "      <td>NaN</td>\n",
       "      <td>25.49</td>\n",
       "      <td>9629090.0</td>\n",
       "      <td>245425.0</td>\n",
       "      <td>19843.129266</td>\n",
       "      <td>0.03</td>\n",
       "    </tr>\n",
       "    <tr>\n",
       "      <th>1992</th>\n",
       "      <td>6.540000e+12</td>\n",
       "      <td>1020.0</td>\n",
       "      <td>26.78</td>\n",
       "      <td>9629090.0</td>\n",
       "      <td>257908.0</td>\n",
       "      <td>25357.879554</td>\n",
       "      <td>0.03</td>\n",
       "    </tr>\n",
       "    <tr>\n",
       "      <th>1996</th>\n",
       "      <td>NaN</td>\n",
       "      <td>1005.0</td>\n",
       "      <td>NaN</td>\n",
       "      <td>NaN</td>\n",
       "      <td>NaN</td>\n",
       "      <td>NaN</td>\n",
       "      <td>NaN</td>\n",
       "    </tr>\n",
       "    <tr>\n",
       "      <th>1997</th>\n",
       "      <td>8.610000e+12</td>\n",
       "      <td>NaN</td>\n",
       "      <td>28.34</td>\n",
       "      <td>9629090.0</td>\n",
       "      <td>272883.0</td>\n",
       "      <td>31551.983817</td>\n",
       "      <td>0.03</td>\n",
       "    </tr>\n",
       "    <tr>\n",
       "      <th>2002</th>\n",
       "      <td>1.100000e+13</td>\n",
       "      <td>938.7</td>\n",
       "      <td>29.95</td>\n",
       "      <td>9632030.0</td>\n",
       "      <td>288471.0</td>\n",
       "      <td>38132.082601</td>\n",
       "      <td>0.03</td>\n",
       "    </tr>\n",
       "    <tr>\n",
       "      <th>2007</th>\n",
       "      <td>1.450000e+13</td>\n",
       "      <td>NaN</td>\n",
       "      <td>31.32</td>\n",
       "      <td>9632030.0</td>\n",
       "      <td>301656.0</td>\n",
       "      <td>48067.997984</td>\n",
       "      <td>0.03</td>\n",
       "    </tr>\n",
       "    <tr>\n",
       "      <th>2012</th>\n",
       "      <td>1.620000e+13</td>\n",
       "      <td>NaN</td>\n",
       "      <td>32.02</td>\n",
       "      <td>9831510.0</td>\n",
       "      <td>314799.0</td>\n",
       "      <td>51461.408708</td>\n",
       "      <td>0.03</td>\n",
       "    </tr>\n",
       "    <tr>\n",
       "      <th>2014</th>\n",
       "      <td>NaN</td>\n",
       "      <td>NaN</td>\n",
       "      <td>NaN</td>\n",
       "      <td>9831510.0</td>\n",
       "      <td>NaN</td>\n",
       "      <td>NaN</td>\n",
       "      <td>NaN</td>\n",
       "    </tr>\n",
       "    <tr>\n",
       "      <th>2015</th>\n",
       "      <td>1.790000e+13</td>\n",
       "      <td>NaN</td>\n",
       "      <td>32.73</td>\n",
       "      <td>NaN</td>\n",
       "      <td>321774.0</td>\n",
       "      <td>55629.106143</td>\n",
       "      <td>NaN</td>\n",
       "    </tr>\n",
       "  </tbody>\n",
       "</table>\n",
       "</div>"
      ],
      "text/plain": [
       "Variable Name           GDP     NRI     PD       Area  Population  \\\n",
       "Year                                                                \n",
       "1962           6.050000e+11     NaN  19.93  9629090.0    191861.0   \n",
       "1965                    NaN   928.5    NaN        NaN         NaN   \n",
       "1967           8.620000e+11     NaN  21.16  9629090.0    203713.0   \n",
       "1969                    NaN   952.2    NaN        NaN         NaN   \n",
       "1972           1.280000e+12     NaN  22.14  9629090.0    213220.0   \n",
       "1974                    NaN  1008.0    NaN        NaN         NaN   \n",
       "1977           2.090000e+12     NaN  23.17  9629090.0    223091.0   \n",
       "1981                    NaN   949.2    NaN        NaN         NaN   \n",
       "1982           3.340000e+12     NaN  24.30  9629090.0    233954.0   \n",
       "1984                    NaN   974.6    NaN        NaN         NaN   \n",
       "1987           4.870000e+12     NaN  25.49  9629090.0    245425.0   \n",
       "1992           6.540000e+12  1020.0  26.78  9629090.0    257908.0   \n",
       "1996                    NaN  1005.0    NaN        NaN         NaN   \n",
       "1997           8.610000e+12     NaN  28.34  9629090.0    272883.0   \n",
       "2002           1.100000e+13   938.7  29.95  9632030.0    288471.0   \n",
       "2007           1.450000e+13     NaN  31.32  9632030.0    301656.0   \n",
       "2012           1.620000e+13     NaN  32.02  9831510.0    314799.0   \n",
       "2014                    NaN     NaN    NaN  9831510.0         NaN   \n",
       "2015           1.790000e+13     NaN  32.73        NaN    321774.0   \n",
       "\n",
       "Variable Name    GDP/capita   PD2  \n",
       "Year                               \n",
       "1962            3153.324542  0.02  \n",
       "1965                    NaN   NaN  \n",
       "1967            4231.443256  0.02  \n",
       "1969                    NaN   NaN  \n",
       "1972            6003.189194  0.02  \n",
       "1974                    NaN   NaN  \n",
       "1977            9368.374341  0.02  \n",
       "1981                    NaN   NaN  \n",
       "1982           14276.310728  0.02  \n",
       "1984                    NaN   NaN  \n",
       "1987           19843.129266  0.03  \n",
       "1992           25357.879554  0.03  \n",
       "1996                    NaN   NaN  \n",
       "1997           31551.983817  0.03  \n",
       "2002           38132.082601  0.03  \n",
       "2007           48067.997984  0.03  \n",
       "2012           51461.408708  0.03  \n",
       "2014                    NaN   NaN  \n",
       "2015           55629.106143   NaN  "
      ]
     },
     "execution_count": 90,
     "metadata": {},
     "output_type": "execute_result"
    }
   ],
   "source": [
    "df_usa['GDP/capita'] = df_usa['GDP']/(df_usa['Population']*1000)\n",
    "df_usa"
   ]
  },
  {
   "cell_type": "markdown",
   "metadata": {},
   "source": [
    "### 3: Create a new column called 'PD2' (i.e. Population density 2). Calculate the Population density. **Note: the units should be inhab/km^2** (see Data description above). Round the reults to two decimal point.\n",
    "\n",
    "\n",
    "\n"
   ]
  },
  {
   "cell_type": "code",
   "execution_count": 91,
   "metadata": {
    "collapsed": false
   },
   "outputs": [
    {
     "data": {
      "text/html": [
       "<div>\n",
       "<table border=\"1\" class=\"dataframe\">\n",
       "  <thead>\n",
       "    <tr style=\"text-align: right;\">\n",
       "      <th>Variable Name</th>\n",
       "      <th>GDP</th>\n",
       "      <th>NRI</th>\n",
       "      <th>PD</th>\n",
       "      <th>Area</th>\n",
       "      <th>Population</th>\n",
       "      <th>GDP/capita</th>\n",
       "      <th>PD2</th>\n",
       "    </tr>\n",
       "    <tr>\n",
       "      <th>Year</th>\n",
       "      <th></th>\n",
       "      <th></th>\n",
       "      <th></th>\n",
       "      <th></th>\n",
       "      <th></th>\n",
       "      <th></th>\n",
       "      <th></th>\n",
       "    </tr>\n",
       "  </thead>\n",
       "  <tbody>\n",
       "    <tr>\n",
       "      <th>1962</th>\n",
       "      <td>6.050000e+11</td>\n",
       "      <td>NaN</td>\n",
       "      <td>19.93</td>\n",
       "      <td>9629090.0</td>\n",
       "      <td>191861.0</td>\n",
       "      <td>3153.324542</td>\n",
       "      <td>19.93</td>\n",
       "    </tr>\n",
       "    <tr>\n",
       "      <th>1965</th>\n",
       "      <td>NaN</td>\n",
       "      <td>928.5</td>\n",
       "      <td>NaN</td>\n",
       "      <td>NaN</td>\n",
       "      <td>NaN</td>\n",
       "      <td>NaN</td>\n",
       "      <td>NaN</td>\n",
       "    </tr>\n",
       "    <tr>\n",
       "      <th>1967</th>\n",
       "      <td>8.620000e+11</td>\n",
       "      <td>NaN</td>\n",
       "      <td>21.16</td>\n",
       "      <td>9629090.0</td>\n",
       "      <td>203713.0</td>\n",
       "      <td>4231.443256</td>\n",
       "      <td>21.16</td>\n",
       "    </tr>\n",
       "    <tr>\n",
       "      <th>1969</th>\n",
       "      <td>NaN</td>\n",
       "      <td>952.2</td>\n",
       "      <td>NaN</td>\n",
       "      <td>NaN</td>\n",
       "      <td>NaN</td>\n",
       "      <td>NaN</td>\n",
       "      <td>NaN</td>\n",
       "    </tr>\n",
       "    <tr>\n",
       "      <th>1972</th>\n",
       "      <td>1.280000e+12</td>\n",
       "      <td>NaN</td>\n",
       "      <td>22.14</td>\n",
       "      <td>9629090.0</td>\n",
       "      <td>213220.0</td>\n",
       "      <td>6003.189194</td>\n",
       "      <td>22.14</td>\n",
       "    </tr>\n",
       "    <tr>\n",
       "      <th>1974</th>\n",
       "      <td>NaN</td>\n",
       "      <td>1008.0</td>\n",
       "      <td>NaN</td>\n",
       "      <td>NaN</td>\n",
       "      <td>NaN</td>\n",
       "      <td>NaN</td>\n",
       "      <td>NaN</td>\n",
       "    </tr>\n",
       "    <tr>\n",
       "      <th>1977</th>\n",
       "      <td>2.090000e+12</td>\n",
       "      <td>NaN</td>\n",
       "      <td>23.17</td>\n",
       "      <td>9629090.0</td>\n",
       "      <td>223091.0</td>\n",
       "      <td>9368.374341</td>\n",
       "      <td>23.17</td>\n",
       "    </tr>\n",
       "    <tr>\n",
       "      <th>1981</th>\n",
       "      <td>NaN</td>\n",
       "      <td>949.2</td>\n",
       "      <td>NaN</td>\n",
       "      <td>NaN</td>\n",
       "      <td>NaN</td>\n",
       "      <td>NaN</td>\n",
       "      <td>NaN</td>\n",
       "    </tr>\n",
       "    <tr>\n",
       "      <th>1982</th>\n",
       "      <td>3.340000e+12</td>\n",
       "      <td>NaN</td>\n",
       "      <td>24.30</td>\n",
       "      <td>9629090.0</td>\n",
       "      <td>233954.0</td>\n",
       "      <td>14276.310728</td>\n",
       "      <td>24.30</td>\n",
       "    </tr>\n",
       "    <tr>\n",
       "      <th>1984</th>\n",
       "      <td>NaN</td>\n",
       "      <td>974.6</td>\n",
       "      <td>NaN</td>\n",
       "      <td>NaN</td>\n",
       "      <td>NaN</td>\n",
       "      <td>NaN</td>\n",
       "      <td>NaN</td>\n",
       "    </tr>\n",
       "    <tr>\n",
       "      <th>1987</th>\n",
       "      <td>4.870000e+12</td>\n",
       "      <td>NaN</td>\n",
       "      <td>25.49</td>\n",
       "      <td>9629090.0</td>\n",
       "      <td>245425.0</td>\n",
       "      <td>19843.129266</td>\n",
       "      <td>25.49</td>\n",
       "    </tr>\n",
       "    <tr>\n",
       "      <th>1992</th>\n",
       "      <td>6.540000e+12</td>\n",
       "      <td>1020.0</td>\n",
       "      <td>26.78</td>\n",
       "      <td>9629090.0</td>\n",
       "      <td>257908.0</td>\n",
       "      <td>25357.879554</td>\n",
       "      <td>26.78</td>\n",
       "    </tr>\n",
       "    <tr>\n",
       "      <th>1996</th>\n",
       "      <td>NaN</td>\n",
       "      <td>1005.0</td>\n",
       "      <td>NaN</td>\n",
       "      <td>NaN</td>\n",
       "      <td>NaN</td>\n",
       "      <td>NaN</td>\n",
       "      <td>NaN</td>\n",
       "    </tr>\n",
       "    <tr>\n",
       "      <th>1997</th>\n",
       "      <td>8.610000e+12</td>\n",
       "      <td>NaN</td>\n",
       "      <td>28.34</td>\n",
       "      <td>9629090.0</td>\n",
       "      <td>272883.0</td>\n",
       "      <td>31551.983817</td>\n",
       "      <td>28.34</td>\n",
       "    </tr>\n",
       "    <tr>\n",
       "      <th>2002</th>\n",
       "      <td>1.100000e+13</td>\n",
       "      <td>938.7</td>\n",
       "      <td>29.95</td>\n",
       "      <td>9632030.0</td>\n",
       "      <td>288471.0</td>\n",
       "      <td>38132.082601</td>\n",
       "      <td>29.95</td>\n",
       "    </tr>\n",
       "    <tr>\n",
       "      <th>2007</th>\n",
       "      <td>1.450000e+13</td>\n",
       "      <td>NaN</td>\n",
       "      <td>31.32</td>\n",
       "      <td>9632030.0</td>\n",
       "      <td>301656.0</td>\n",
       "      <td>48067.997984</td>\n",
       "      <td>31.32</td>\n",
       "    </tr>\n",
       "    <tr>\n",
       "      <th>2012</th>\n",
       "      <td>1.620000e+13</td>\n",
       "      <td>NaN</td>\n",
       "      <td>32.02</td>\n",
       "      <td>9831510.0</td>\n",
       "      <td>314799.0</td>\n",
       "      <td>51461.408708</td>\n",
       "      <td>32.02</td>\n",
       "    </tr>\n",
       "    <tr>\n",
       "      <th>2014</th>\n",
       "      <td>NaN</td>\n",
       "      <td>NaN</td>\n",
       "      <td>NaN</td>\n",
       "      <td>9831510.0</td>\n",
       "      <td>NaN</td>\n",
       "      <td>NaN</td>\n",
       "      <td>NaN</td>\n",
       "    </tr>\n",
       "    <tr>\n",
       "      <th>2015</th>\n",
       "      <td>1.790000e+13</td>\n",
       "      <td>NaN</td>\n",
       "      <td>32.73</td>\n",
       "      <td>NaN</td>\n",
       "      <td>321774.0</td>\n",
       "      <td>55629.106143</td>\n",
       "      <td>NaN</td>\n",
       "    </tr>\n",
       "  </tbody>\n",
       "</table>\n",
       "</div>"
      ],
      "text/plain": [
       "Variable Name           GDP     NRI     PD       Area  Population  \\\n",
       "Year                                                                \n",
       "1962           6.050000e+11     NaN  19.93  9629090.0    191861.0   \n",
       "1965                    NaN   928.5    NaN        NaN         NaN   \n",
       "1967           8.620000e+11     NaN  21.16  9629090.0    203713.0   \n",
       "1969                    NaN   952.2    NaN        NaN         NaN   \n",
       "1972           1.280000e+12     NaN  22.14  9629090.0    213220.0   \n",
       "1974                    NaN  1008.0    NaN        NaN         NaN   \n",
       "1977           2.090000e+12     NaN  23.17  9629090.0    223091.0   \n",
       "1981                    NaN   949.2    NaN        NaN         NaN   \n",
       "1982           3.340000e+12     NaN  24.30  9629090.0    233954.0   \n",
       "1984                    NaN   974.6    NaN        NaN         NaN   \n",
       "1987           4.870000e+12     NaN  25.49  9629090.0    245425.0   \n",
       "1992           6.540000e+12  1020.0  26.78  9629090.0    257908.0   \n",
       "1996                    NaN  1005.0    NaN        NaN         NaN   \n",
       "1997           8.610000e+12     NaN  28.34  9629090.0    272883.0   \n",
       "2002           1.100000e+13   938.7  29.95  9632030.0    288471.0   \n",
       "2007           1.450000e+13     NaN  31.32  9632030.0    301656.0   \n",
       "2012           1.620000e+13     NaN  32.02  9831510.0    314799.0   \n",
       "2014                    NaN     NaN    NaN  9831510.0         NaN   \n",
       "2015           1.790000e+13     NaN  32.73        NaN    321774.0   \n",
       "\n",
       "Variable Name    GDP/capita    PD2  \n",
       "Year                                \n",
       "1962            3153.324542  19.93  \n",
       "1965                    NaN    NaN  \n",
       "1967            4231.443256  21.16  \n",
       "1969                    NaN    NaN  \n",
       "1972            6003.189194  22.14  \n",
       "1974                    NaN    NaN  \n",
       "1977            9368.374341  23.17  \n",
       "1981                    NaN    NaN  \n",
       "1982           14276.310728  24.30  \n",
       "1984                    NaN    NaN  \n",
       "1987           19843.129266  25.49  \n",
       "1992           25357.879554  26.78  \n",
       "1996                    NaN    NaN  \n",
       "1997           31551.983817  28.34  \n",
       "2002           38132.082601  29.95  \n",
       "2007           48067.997984  31.32  \n",
       "2012           51461.408708  32.02  \n",
       "2014                    NaN    NaN  \n",
       "2015           55629.106143    NaN  "
      ]
     },
     "execution_count": 91,
     "metadata": {},
     "output_type": "execute_result"
    }
   ],
   "source": [
    "df_usa['PD2']=(df_usa['Population']*1000/df_usa['Area']).round(2)\n",
    "df_usa"
   ]
  },
  {
   "cell_type": "markdown",
   "metadata": {},
   "source": [
    "\n",
    "\n",
    "### 4: Find the maximum value and minimum value of the 'NRI' column in the US (using pandas methods). What years do the min and max values occur?\n",
    "\n"
   ]
  },
  {
   "cell_type": "code",
   "execution_count": 117,
   "metadata": {
    "collapsed": false
   },
   "outputs": [
    {
     "name": "stdout",
     "output_type": "stream",
     "text": [
      "year maximum NRI is\n",
      "Year\n",
      "1992    1020.0\n",
      "Name: NRI, dtype: float64\n",
      "\n",
      "year minimum NRI is\n",
      "Year\n",
      "1965    928.5\n",
      "Name: NRI, dtype: float64\n"
     ]
    }
   ],
   "source": [
    "print('year maximum NRI is')\n",
    "print(df_usa['NRI'].ix[df_usa[['NRI']].idxmax()])\n",
    "print()\n",
    "print('year minimum NRI is')\n",
    "print(df_usa['NRI'].ix[df_usa[['NRI']].idxmin()])\n"
   ]
  },
  {
   "cell_type": "markdown",
   "metadata": {
    "collapsed": true
   },
   "source": [
    "### Now, lets read another CSV file.\n",
    "\n",
    "See https://www.quantshare.com/sa-43-10-ways-to-download-historical-stock-quotes-data-for-free\n",
    "\n",
    "#### 10 a) Show a 3 x 3 correlation matrix for Nike, Apple, and Disney stock prices for the month of July, 2017"
   ]
  },
  {
   "cell_type": "code",
   "execution_count": 119,
   "metadata": {
    "collapsed": false
   },
   "outputs": [],
   "source": [
    "dfa = pd.read_csv('https://www.google.com/finance/historical?output=csv&q=aapl')\n",
    "dfn = pd.read_csv('https://www.google.com/finance/historical?output=csv&q=nke')\n",
    "dfd = pd.read_csv('https://www.google.com/finance/historical?output=csv&q=dis')"
   ]
  },
  {
   "cell_type": "code",
   "execution_count": 133,
   "metadata": {
    "collapsed": false
   },
   "outputs": [
    {
     "name": "stdout",
     "output_type": "stream",
     "text": [
      "          AAPL       DIS       NKE\n",
      "AAPL  1.000000  0.524912  0.417947\n",
      "DIS   0.524912  1.000000  0.459045\n",
      "NKE   0.417947  0.459045  1.000000\n"
     ]
    }
   ],
   "source": [
    "dfa = dfa.rename(columns = {'Close':'AAPL'})\n",
    "dfd = dfd.rename(columns = {'Close':'DIS'})\n",
    "dfn = dfn.rename(columns = {'Close':'NKE'})\n",
    "df_full = dfa[['Date','AAPL']].merge(dfd[['Date','DIS']])\n",
    "df_full = df_full.merge(dfn[['Date','NKE']])\n",
    "corrl = df_full[32:52].corr()\n",
    "print(corrl)\n"
   ]
  },
  {
   "cell_type": "markdown",
   "metadata": {
    "collapsed": true
   },
   "source": [
    "#### 10b) Show the same correlation matrix but over different time periods, \n",
    "\n",
    "i) the last 20 days\n",
    "ii) the last 80 days"
   ]
  },
  {
   "cell_type": "code",
   "execution_count": 134,
   "metadata": {
    "collapsed": false
   },
   "outputs": [
    {
     "name": "stdout",
     "output_type": "stream",
     "text": [
      "corr the last 20 days\n",
      "          AAPL       DIS       NKE\n",
      "AAPL  1.000000  0.237467 -0.547436\n",
      "DIS   0.237467  1.000000  0.240004\n",
      "NKE  -0.547436  0.240004  1.000000\n",
      "\n",
      "corr the last 80 days\n",
      "          AAPL       DIS       NKE\n",
      "AAPL  1.000000 -0.507881 -0.078793\n",
      "DIS  -0.507881  1.000000  0.272226\n",
      "NKE  -0.078793  0.272226  1.000000\n"
     ]
    }
   ],
   "source": [
    "print('corr the last 20 days')\n",
    "print(df_full[:20].corr())\n",
    "print()\n",
    "print('corr the last 80 days')\n",
    "print(df_full[:80].corr())"
   ]
  },
  {
   "cell_type": "markdown",
   "metadata": {},
   "source": [
    "\n",
    "#### 11) Change the code so that it accepts a list of any stock symbols, ie ['NKE', 'APPL', 'DIS', ... ] and creates a correlation matrix for the time period of the past 100 days\n"
   ]
  },
  {
   "cell_type": "code",
   "execution_count": 135,
   "metadata": {
    "collapsed": false
   },
   "outputs": [
    {
     "name": "stdout",
     "output_type": "stream",
     "text": [
      "          AAPL       NKE       DIS      GOOG\n",
      "AAPL  1.000000 -0.068436 -0.529913  0.028501\n",
      "NKE  -0.068436  1.000000  0.106217 -0.201377\n",
      "DIS  -0.529913  0.106217  1.000000 -0.091609\n",
      "GOOG  0.028501 -0.201377 -0.091609  1.000000\n"
     ]
    }
   ],
   "source": [
    "# Insert list of companies here. Should be >=2 companies\n",
    "l = ['AAPL', 'NKE', 'DIS', 'GOOG']\n",
    "df1  = pd.read_csv('https://www.google.com/finance/historical?output=csv&q='+l[0])\n",
    "df2  = pd.read_csv('https://www.google.com/finance/historical?output=csv&q='+l[1])\n",
    "df1 = df1.rename(columns = {'Close':l[0]})\n",
    "df2 = df2.rename(columns = {'Close':l[1]})\n",
    "\n",
    "dff = df1[['Date',l[0]]].merge(df2[['Date',l[1]]])\n",
    "\n",
    "for n in l[2:]:\n",
    "    dfn = pd.read_csv('https://www.google.com/finance/historical?output=csv&q='+n)\n",
    "    dfn = dfn.rename(columns = {'Close':n})\n",
    "    dff = dff.merge(dfn[['Date', n]])\n",
    "\n",
    "corr = dff[:100].corr()\n",
    "print(corr)"
   ]
  }
 ],
 "metadata": {
  "anaconda-cloud": {},
  "kernelspec": {
   "display_name": "Python [default]",
   "language": "python",
   "name": "python3"
  },
  "language_info": {
   "codemirror_mode": {
    "name": "ipython",
    "version": 3
   },
   "file_extension": ".py",
   "mimetype": "text/x-python",
   "name": "python",
   "nbconvert_exporter": "python",
   "pygments_lexer": "ipython3",
   "version": "3.5.2"
  }
 },
 "nbformat": 4,
 "nbformat_minor": 1
}
