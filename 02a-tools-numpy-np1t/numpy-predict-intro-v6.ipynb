{
 "cells": [
  {
   "cell_type": "markdown",
   "metadata": {},
   "source": [
    "![data-x](http://oi64.tinypic.com/o858n4.jpg)\n",
    "\n",
    "---\n",
    "# Numpy Data X - BKHW \n",
    "\n",
    "**Author:** Kunal Desai and Ikhlaq Sidhu 1/22/2017, midified June 2017\n",
    "\n",
    "**License Agreement:** Feel free to do whatever you want with this code\n",
    "\n",
    "___"
   ]
  },
  {
   "cell_type": "markdown",
   "metadata": {},
   "source": [
    "# Introduction to NumPy"
   ]
  },
  {
   "cell_type": "markdown",
   "metadata": {},
   "source": [
    "# What is NumPy:  \n",
    "\n",
    "NumPy is the fundamental package for scientific computing with Python. It contains among other things:\n",
    "\n",
    "* a powerful N-dimensional array object\n",
    "* sophisticated (broadcasting) functions\n",
    "* tools for integrating C/C++ and Fortran code\n",
    "* useful linear algebra, Fourier transform, and random number capabilities\n"
   ]
  },
  {
   "cell_type": "markdown",
   "metadata": {},
   "source": [
    "# NumPy contains an array object that is \"fast\"\n",
    "\n",
    "\n",
    "<img src=\"https://github.com/ikhlaqsidhu/data-x/raw/master/imgsource/threefundamental.png\">\n",
    "\n",
    "\n",
    "It stores:\n",
    "* location of a memory block (allocated all at one time)\n",
    "* a shape (3 x 3 or 1 x 9, etc)\n",
    "* data type / size of each element\n",
    "\n",
    "The core feauture that NumPy supports is its multi-dimensional arrays. In NumPy, dimensions are called axes and the number of axes is called a rank."
   ]
  },
  {
   "cell_type": "code",
   "execution_count": 1,
   "metadata": {
    "collapsed": true
   },
   "outputs": [],
   "source": [
    "# written for Python 3.6\n",
    "import numpy as np"
   ]
  },
  {
   "cell_type": "code",
   "execution_count": 2,
   "metadata": {
    "collapsed": false
   },
   "outputs": [
    {
     "data": {
      "text/plain": [
       "array([1, 2, 3, 4])"
      ]
     },
     "execution_count": 2,
     "metadata": {},
     "output_type": "execute_result"
    }
   ],
   "source": [
    "# Creating a NumPy Arracy - simplest possible\n",
    "# We use a list as an argument input in making a NumPy Array\n",
    "\n",
    "list1 = [1, 2, 3, 4]\n",
    "data = np.array(list1)\n",
    "data"
   ]
  },
  {
   "cell_type": "code",
   "execution_count": 3,
   "metadata": {
    "collapsed": false
   },
   "outputs": [
    {
     "data": {
      "text/plain": [
       "array([   0,    1,    2, ..., 9997, 9998, 9999])"
      ]
     },
     "execution_count": 3,
     "metadata": {},
     "output_type": "execute_result"
    }
   ],
   "source": [
    "# it could be much longer\n",
    "list2 = range(10000)\n",
    "data = np.array(list2)\n",
    "data"
   ]
  },
  {
   "cell_type": "code",
   "execution_count": 4,
   "metadata": {
    "collapsed": false
   },
   "outputs": [
    {
     "data": {
      "text/plain": [
       "array([1, 2, 3, 4, 5, 6, 7, 8, 9])"
      ]
     },
     "execution_count": 4,
     "metadata": {},
     "output_type": "execute_result"
    }
   ],
   "source": [
    "# data = np.array(1,2,3,4, 5,6,7,8,9) # wrong\n",
    "data = np.array([1,2,3,4,5,6,7,8,9]) # right\n",
    "data"
   ]
  },
  {
   "cell_type": "code",
   "execution_count": 5,
   "metadata": {
    "collapsed": false
   },
   "outputs": [
    {
     "name": "stdout",
     "output_type": "stream",
     "text": [
      "[1 2 3 4 5 6 7 8 9]\n",
      "[1 2 3]\n",
      "[4 5 6 7 8 9]\n",
      "[9 7 5 3 1]\n"
     ]
    }
   ],
   "source": [
    "#accessing elements - similar to slicing Python lists:\n",
    "print(data[:])\n",
    "print (data[0:3])\n",
    "print (data[3:])\n",
    "print (data[::-2])"
   ]
  },
  {
   "cell_type": "markdown",
   "metadata": {},
   "source": [
    "## Arrays are like lists, but different"
   ]
  },
  {
   "cell_type": "code",
   "execution_count": 6,
   "metadata": {
    "collapsed": false
   },
   "outputs": [
    {
     "name": "stdout",
     "output_type": "stream",
     "text": [
      "[0, 1, 4, 9, 16]\n"
     ]
    }
   ],
   "source": [
    "# Arrays are faster and more efficient\n",
    "\n",
    "x = list(range(10000))\n",
    "# %timeit y = [i**2 for i in x]\n",
    "y = [i**2 for i in x]\n",
    "print (y[0:5])\n"
   ]
  },
  {
   "cell_type": "code",
   "execution_count": 7,
   "metadata": {
    "collapsed": false
   },
   "outputs": [
    {
     "name": "stdout",
     "output_type": "stream",
     "text": [
      "[ 0  1  4  9 16]\n"
     ]
    }
   ],
   "source": [
    "z = np.array(x)\n",
    "# %timeit y = z**2\n",
    "y = z**2\n",
    "print (y[0:5])"
   ]
  },
  {
   "cell_type": "code",
   "execution_count": 8,
   "metadata": {
    "collapsed": false
   },
   "outputs": [
    {
     "name": "stdout",
     "output_type": "stream",
     "text": [
      "x =  [0, 1, 2, 3, 4]\n",
      "y =  [5, 6, 7, 8, 9]\n",
      "x+y =  [0, 1, 2, 3, 4, 5, 6, 7, 8, 9]\n"
     ]
    }
   ],
   "source": [
    "# Arrays are different than lists in another way:\n",
    "# x and y are lists\n",
    "x = list(range(5))\n",
    "y = list(range(5,10))\n",
    "print (\"x = \", x)\n",
    "print (\"y = \", y)\n",
    "print (\"x+y = \", x+y)"
   ]
  },
  {
   "cell_type": "code",
   "execution_count": 9,
   "metadata": {
    "collapsed": false
   },
   "outputs": [
    {
     "name": "stdout",
     "output_type": "stream",
     "text": [
      "[0 1 2 3 4]\n",
      "[5 6 7 8 9]\n",
      "xn + yn =  [ 5  7  9 11 13]\n"
     ]
    }
   ],
   "source": [
    "# now lets try with NumPy arrays:\n",
    "xn = np.array(x)\n",
    "yn = np.array(y)\n",
    "print (xn)\n",
    "print (yn)\n",
    "print (\"xn + yn = \", xn + yn)"
   ]
  },
  {
   "cell_type": "code",
   "execution_count": 10,
   "metadata": {
    "collapsed": false
   },
   "outputs": [
    {
     "name": "stdout",
     "output_type": "stream",
     "text": [
      "[0 1 2 3 4 5 6 7 8 9]\n",
      "[0 1 2 3 4 5 6 7 8 9]\n"
     ]
    }
   ],
   "source": [
    "# if you need to join to numpy arrays, try hstack, vstack, column_stack, or concatenate\n",
    "print (np.hstack((xn,yn)))\n",
    "print (np.concatenate((xn,yn)))"
   ]
  },
  {
   "cell_type": "code",
   "execution_count": 11,
   "metadata": {
    "collapsed": false
   },
   "outputs": [
    {
     "name": "stdout",
     "output_type": "stream",
     "text": [
      "[0, 1, 2, 3, 4, 0, 1, 2, 3, 4, 0, 1, 2, 3, 4]\n",
      "[ 0  3  6  9 12]\n"
     ]
    }
   ],
   "source": [
    "# An array is a sequence that can be manipulated easily\n",
    "# An arithmatic operation is applied to each element individually\n",
    "# When two arrays are added, they must have the same size; corresponding elements \n",
    "# are added in the result\n",
    "\n",
    "print (3* x)\n",
    "print (3 * xn)\n"
   ]
  },
  {
   "cell_type": "code",
   "execution_count": 12,
   "metadata": {
    "collapsed": true
   },
   "outputs": [],
   "source": [
    "# all elements must be the same type\n",
    "# data = np.array([1,2,'cat', 4])\n",
    "# print (data+1)  # results in error"
   ]
  },
  {
   "cell_type": "markdown",
   "metadata": {},
   "source": [
    "Creating arrays with 2 axis:\n"
   ]
  },
  {
   "cell_type": "code",
   "execution_count": 13,
   "metadata": {
    "collapsed": true
   },
   "outputs": [],
   "source": [
    "# This list has two dimensions\n",
    "list3 = [[1, 2, 3],\n",
    " [4, 5, 6]]"
   ]
  },
  {
   "cell_type": "code",
   "execution_count": 14,
   "metadata": {
    "collapsed": false
   },
   "outputs": [
    {
     "name": "stdout",
     "output_type": "stream",
     "text": [
      "[[1 2 3]\n",
      " [4 5 6]]\n"
     ]
    }
   ],
   "source": [
    "# data = np.array([[1, 2, 3], [4, 5, 6]])\n",
    "data = np.array(list3)\n",
    "print (data)"
   ]
  },
  {
   "cell_type": "code",
   "execution_count": 15,
   "metadata": {
    "collapsed": false
   },
   "outputs": [
    {
     "name": "stdout",
     "output_type": "stream",
     "text": [
      "Transpose: \n",
      " [[1 4]\n",
      " [2 5]\n",
      " [3 6]] \n",
      "\n",
      "Transpose: \n",
      " [[1 4]\n",
      " [2 5]\n",
      " [3 6]]\n"
     ]
    }
   ],
   "source": [
    "# You can also transpose an array Matrix\n",
    "print ('Transpose: \\n', data.T, '\\n')\n",
    "print ('Transpose: \\n', np.transpose(data))\n",
    "\n",
    "# print (list3.T) # note, this would not work"
   ]
  },
  {
   "cell_type": "markdown",
   "metadata": {},
   "source": [
    "Remember that every time you declare an np.array, the argument must be in the form of a Python list. Ranges are a great tool to create these list arrays."
   ]
  },
  {
   "cell_type": "code",
   "execution_count": 16,
   "metadata": {
    "collapsed": false
   },
   "outputs": [
    {
     "data": {
      "text/plain": [
       "array([0, 1, 2, 3, 4, 5, 6, 7, 8, 9])"
      ]
     },
     "execution_count": 16,
     "metadata": {},
     "output_type": "execute_result"
    }
   ],
   "source": [
    "#Creates array from 0 to before end: np.arange(end)\n",
    "# See that you don't have to make a list first\n",
    "\n",
    "# A range is an array of consecutive numbers\n",
    "# np.arange(end): \n",
    "\n",
    "np.arange(10)"
   ]
  },
  {
   "cell_type": "code",
   "execution_count": 17,
   "metadata": {
    "collapsed": false
   },
   "outputs": [
    {
     "data": {
      "text/plain": [
       "array([10, 11, 12, 13, 14, 15, 16, 17, 18, 19])"
      ]
     },
     "execution_count": 17,
     "metadata": {},
     "output_type": "execute_result"
    }
   ],
   "source": [
    "#Array increasing from start to end: np.arange(start, end)\n",
    "np.arange(10, 20)"
   ]
  },
  {
   "cell_type": "code",
   "execution_count": 18,
   "metadata": {
    "collapsed": false
   },
   "outputs": [
    {
     "data": {
      "text/plain": [
       "array([1, 3, 5, 7, 9])"
      ]
     },
     "execution_count": 18,
     "metadata": {},
     "output_type": "execute_result"
    }
   ],
   "source": [
    "#Array increasing from start to end by step: np.arange(start, end, step)\n",
    "# The range always includes start but excludes end\n",
    "np.arange(1, 10, 2)"
   ]
  },
  {
   "cell_type": "markdown",
   "metadata": {},
   "source": [
    "Here is a quick example of a NumPy array and some helpful methods:"
   ]
  },
  {
   "cell_type": "code",
   "execution_count": 19,
   "metadata": {
    "collapsed": false
   },
   "outputs": [
    {
     "name": "stdout",
     "output_type": "stream",
     "text": [
      "[[ 0  1  2  3  4]\n",
      " [ 5  6  7  8  9]\n",
      " [10 11 12 13 14]]\n"
     ]
    }
   ],
   "source": [
    "# Reshape is used to change the shape\n",
    "a = np.arange(0, 15)\n",
    "a = a.reshape(3, 5)\n",
    "# a = np.arange(0, 15).reshape(3, 5)  # same thing\n",
    "print (a)"
   ]
  },
  {
   "cell_type": "code",
   "execution_count": 20,
   "metadata": {
    "collapsed": false
   },
   "outputs": [
    {
     "name": "stdout",
     "output_type": "stream",
     "text": [
      "(3, 5)\n",
      "2\n",
      "5\n"
     ]
    }
   ],
   "source": [
    "# If you want to know the shape, use 'shape'\n",
    "print (a.shape)\n",
    "print (len(a.shape))\n",
    "print (a.shape[1])"
   ]
  },
  {
   "cell_type": "code",
   "execution_count": 21,
   "metadata": {
    "collapsed": false
   },
   "outputs": [
    {
     "data": {
      "text/plain": [
       "2"
      ]
     },
     "execution_count": 21,
     "metadata": {},
     "output_type": "execute_result"
    }
   ],
   "source": [
    "# ndim tells us the number of dimensions of the array\n",
    "a.ndim"
   ]
  },
  {
   "cell_type": "code",
   "execution_count": 22,
   "metadata": {
    "collapsed": false
   },
   "outputs": [
    {
     "name": "stdout",
     "output_type": "stream",
     "text": [
      "int64\n"
     ]
    }
   ],
   "source": [
    "#dtype.name tells us what type is each element in the array\n",
    "print (a.dtype.name)"
   ]
  },
  {
   "cell_type": "code",
   "execution_count": 23,
   "metadata": {
    "collapsed": false
   },
   "outputs": [
    {
     "data": {
      "text/plain": [
       "15"
      ]
     },
     "execution_count": 23,
     "metadata": {},
     "output_type": "execute_result"
    }
   ],
   "source": [
    "# And for total size:\n",
    "a.size"
   ]
  },
  {
   "cell_type": "code",
   "execution_count": 24,
   "metadata": {
    "collapsed": false
   },
   "outputs": [
    {
     "name": "stdout",
     "output_type": "stream",
     "text": [
      "int64 [1 2 3 4 5 6 7 8]\n",
      "float64 [ 1.  2.  3.  4.  5.  6.  7.  8.]\n",
      "uint64 [1 2 3 4 5 6 7 8]\n"
     ]
    }
   ],
   "source": [
    "# Setting the data type\n",
    "# default is float\n",
    "d1 = np.array([1,2,3,4,5,6,7,8])\n",
    "print (d1.dtype, d1)\n",
    "\n",
    "d2 = np.array([1,2.0,3,4,5,6,7,8])\n",
    "print (d2.dtype, d2)\n",
    "\n",
    "d3 = np.array([1,2.0,3,4,5,6,7,8], dtype = np.uint)\n",
    "print (d3.dtype, d3)\n",
    "\n",
    "# can be complex, float, int (same as int64), uint."
   ]
  },
  {
   "cell_type": "code",
   "execution_count": 25,
   "metadata": {
    "collapsed": false
   },
   "outputs": [
    {
     "name": "stdout",
     "output_type": "stream",
     "text": [
      "[[ 0  1  2  3  4]\n",
      " [ 5  6  7  8  9]\n",
      " [10 11 12 13 14]]\n",
      "105\n",
      "105.0\n"
     ]
    }
   ],
   "source": [
    "# sum, min, max, .. are easy\n",
    "print (a)\n",
    "print (a.sum())\n",
    "print ((0+14)*15/2)"
   ]
  },
  {
   "cell_type": "code",
   "execution_count": 26,
   "metadata": {
    "collapsed": false
   },
   "outputs": [
    {
     "name": "stdout",
     "output_type": "stream",
     "text": [
      "[15 18 21 24 27]\n",
      "[10 35 60]\n"
     ]
    }
   ],
   "source": [
    "print (a.sum(axis=0))\n",
    "print (a.sum(axis=1))"
   ]
  },
  {
   "cell_type": "markdown",
   "metadata": {},
   "source": [
    "## Arrray Axis\n",
    "<img src= \"https://github.com/ikhlaqsidhu/data-x/raw/master/imgsource/anatomyarray.png\">\n",
    "\n"
   ]
  },
  {
   "cell_type": "markdown",
   "metadata": {},
   "source": [
    "To get the cumulative product:"
   ]
  },
  {
   "cell_type": "code",
   "execution_count": 27,
   "metadata": {
    "collapsed": false
   },
   "outputs": [
    {
     "name": "stdout",
     "output_type": "stream",
     "text": [
      "[1 2 3 4 5 6 7 8 9]\n",
      "[     1      2      6     24    120    720   5040  40320 362880]\n"
     ]
    }
   ],
   "source": [
    "print (np.arange(1, 10))\n",
    "print (np.cumprod(np.arange(1, 10)))"
   ]
  },
  {
   "cell_type": "markdown",
   "metadata": {},
   "source": [
    "To get the cumulative sum:"
   ]
  },
  {
   "cell_type": "code",
   "execution_count": 28,
   "metadata": {
    "collapsed": false
   },
   "outputs": [
    {
     "name": "stdout",
     "output_type": "stream",
     "text": [
      "[1 2 3 4 5 6 7 8 9]\n"
     ]
    },
    {
     "data": {
      "text/plain": [
       "array([ 1,  3,  6, 10, 15, 21, 28, 36, 45])"
      ]
     },
     "execution_count": 28,
     "metadata": {},
     "output_type": "execute_result"
    }
   ],
   "source": [
    "print (np.arange(1, 10))\n",
    "np.cumsum((np.arange(1, 10)))"
   ]
  },
  {
   "cell_type": "code",
   "execution_count": 29,
   "metadata": {
    "collapsed": false
   },
   "outputs": [
    {
     "name": "stdout",
     "output_type": "stream",
     "text": [
      "[5 6 7 8 9]\n",
      "[ 5 11 18 26 35]\n"
     ]
    }
   ],
   "source": [
    "print (a[1,:])\n",
    "print (np.cumsum(a[1,:]))"
   ]
  },
  {
   "cell_type": "markdown",
   "metadata": {},
   "source": [
    "You can also compare arrays"
   ]
  },
  {
   "cell_type": "code",
   "execution_count": 30,
   "metadata": {
    "collapsed": false
   },
   "outputs": [
    {
     "name": "stdout",
     "output_type": "stream",
     "text": [
      "[0 1 2 3 4 5 6 7 8 9]\n",
      "[False False False False  True  True  True  True  True  True]\n"
     ]
    }
   ],
   "source": [
    "#mask\n",
    "# Does this array have any elements that are \"3\"?\n",
    "data1 = np.array(range(10))\n",
    "print (data1)\n",
    "mask1 = (data1 > 3)\n",
    "print (mask1)"
   ]
  },
  {
   "cell_type": "code",
   "execution_count": 31,
   "metadata": {
    "collapsed": false
   },
   "outputs": [
    {
     "name": "stdout",
     "output_type": "stream",
     "text": [
      "[4 5 6 7 8 9]\n"
     ]
    }
   ],
   "source": [
    "# use the mask to get elements:\n",
    "print (data1[mask1])"
   ]
  },
  {
   "cell_type": "code",
   "execution_count": 32,
   "metadata": {
    "collapsed": false
   },
   "outputs": [
    {
     "name": "stdout",
     "output_type": "stream",
     "text": [
      "[ True False False False False False False False False False]\n",
      "[0]\n"
     ]
    }
   ],
   "source": [
    "# again:\n",
    "mask2 = data1 == 0\n",
    "print (mask2)\n",
    "print (data1[mask2])"
   ]
  },
  {
   "cell_type": "code",
   "execution_count": 33,
   "metadata": {
    "collapsed": false
   },
   "outputs": [
    {
     "name": "stdout",
     "output_type": "stream",
     "text": [
      "[False False False False False False  True  True  True  True]\n",
      "[6 7 8 9]\n"
     ]
    }
   ],
   "source": [
    "# or directly in one step:\n",
    "print (np.array(range(10))> 5)\n",
    "print (np.array(range(10))[np.array(range(10)) > 5])"
   ]
  },
  {
   "cell_type": "code",
   "execution_count": 34,
   "metadata": {
    "collapsed": false
   },
   "outputs": [
    {
     "name": "stdout",
     "output_type": "stream",
     "text": [
      "[ True  True False  True]\n",
      "True\n"
     ]
    }
   ],
   "source": [
    "# Does this array have any or all elements that are \"1\"?\n",
    "print (np.array([1, 1, 0, 1]) == 1)\n",
    "print (np.all(np.array([1, 1, 1, 1]) == 1))   "
   ]
  },
  {
   "cell_type": "markdown",
   "metadata": {},
   "source": [
    "Creating a 3D array:"
   ]
  },
  {
   "cell_type": "code",
   "execution_count": 35,
   "metadata": {
    "collapsed": false
   },
   "outputs": [
    {
     "name": "stdout",
     "output_type": "stream",
     "text": [
      "[[[ 0  1  2  3  4  5  6  7]\n",
      "  [ 8  9 10 11 12 13 14 15]\n",
      "  [16 17 18 19 20 21 22 23]\n",
      "  [24 25 26 27 28 29 30 31]\n",
      "  [32 33 34 35 36 37 38 39]\n",
      "  [40 41 42 43 44 45 46 47]]\n",
      "\n",
      " [[48 49 50 51 52 53 54 55]\n",
      "  [56 57 58 59 60 61 62 63]\n",
      "  [64 65 66 67 68 69 70 71]\n",
      "  [72 73 74 75 76 77 78 79]\n",
      "  [80 81 82 83 84 85 86 87]\n",
      "  [88 89 90 91 92 93 94 95]]]\n"
     ]
    }
   ],
   "source": [
    "a = np.arange(0, 96).reshape(2, 6, 8)\n",
    "print(a)"
   ]
  },
  {
   "cell_type": "code",
   "execution_count": 36,
   "metadata": {
    "collapsed": false
   },
   "outputs": [
    {
     "name": "stdout",
     "output_type": "stream",
     "text": [
      "[[ 48  50  52  54  56  58  60  62]\n",
      " [ 64  66  68  70  72  74  76  78]\n",
      " [ 80  82  84  86  88  90  92  94]\n",
      " [ 96  98 100 102 104 106 108 110]\n",
      " [112 114 116 118 120 122 124 126]\n",
      " [128 130 132 134 136 138 140 142]]\n",
      "---\n",
      "[[120 126 132 138 144 150 156 162]\n",
      " [408 414 420 426 432 438 444 450]]\n"
     ]
    }
   ],
   "source": [
    "# The same methods typically apply in multiple dimensions\n",
    "print (a.sum(axis = 0))\n",
    "print ('---')\n",
    "print (a.sum(axis = 1))"
   ]
  },
  {
   "cell_type": "markdown",
   "metadata": {},
   "source": [
    "# Basic Operations"
   ]
  },
  {
   "cell_type": "markdown",
   "metadata": {},
   "source": [
    "One of the coolest parts of NumPy is the ability for you to run operations on top of arrays. Here are some basic operations:"
   ]
  },
  {
   "cell_type": "code",
   "execution_count": 37,
   "metadata": {
    "collapsed": false
   },
   "outputs": [
    {
     "name": "stdout",
     "output_type": "stream",
     "text": [
      "a =  [11 12 13 14 15 16 17 18 19 20]\n",
      "b =  [0 1 2 3 4 5 6 7 8 9]\n",
      "[11 13 15 17 19 21 23 25 27 29]\n"
     ]
    }
   ],
   "source": [
    "a = np.arange(11, 21)\n",
    "b = np.arange(0, 10)\n",
    "print (\"a = \",a)\n",
    "print (\"b = \",b)\n",
    "print (a + b)"
   ]
  },
  {
   "cell_type": "code",
   "execution_count": 38,
   "metadata": {
    "collapsed": false
   },
   "outputs": [
    {
     "data": {
      "text/plain": [
       "array([  0,  12,  26,  42,  60,  80, 102, 126, 152, 180])"
      ]
     },
     "execution_count": 38,
     "metadata": {},
     "output_type": "execute_result"
    }
   ],
   "source": [
    "a * b"
   ]
  },
  {
   "cell_type": "code",
   "execution_count": 39,
   "metadata": {
    "collapsed": false
   },
   "outputs": [
    {
     "data": {
      "text/plain": [
       "array([121, 144, 169, 196, 225, 256, 289, 324, 361, 400])"
      ]
     },
     "execution_count": 39,
     "metadata": {},
     "output_type": "execute_result"
    }
   ],
   "source": [
    "a ** 2"
   ]
  },
  {
   "cell_type": "markdown",
   "metadata": {},
   "source": [
    "You can even do things like matrix operations"
   ]
  },
  {
   "cell_type": "code",
   "execution_count": 40,
   "metadata": {
    "collapsed": false
   },
   "outputs": [
    {
     "data": {
      "text/plain": [
       "780"
      ]
     },
     "execution_count": 40,
     "metadata": {},
     "output_type": "execute_result"
    }
   ],
   "source": [
    "a.dot(b)"
   ]
  },
  {
   "cell_type": "code",
   "execution_count": 41,
   "metadata": {
    "collapsed": false
   },
   "outputs": [
    {
     "name": "stdout",
     "output_type": "stream",
     "text": [
      "c =  [[1 2]\n",
      " [3 4]]\n",
      "d =  [[5 6]\n",
      " [7 8]]\n"
     ]
    }
   ],
   "source": [
    "# Matrix multiplication\n",
    "c = np.arange(1,5).reshape(2,2)\n",
    "print (\"c = \", c)\n",
    "d = np.arange(5,9).reshape(2,2)\n",
    "print (\"d = \", d)"
   ]
  },
  {
   "cell_type": "code",
   "execution_count": 42,
   "metadata": {
    "collapsed": false
   },
   "outputs": [
    {
     "name": "stdout",
     "output_type": "stream",
     "text": [
      "[[23 34]\n",
      " [31 46]]\n"
     ]
    }
   ],
   "source": [
    "print (d.dot(c))"
   ]
  },
  {
   "cell_type": "code",
   "execution_count": 43,
   "metadata": {
    "collapsed": false
   },
   "outputs": [
    {
     "name": "stdout",
     "output_type": "stream",
     "text": [
      "[ 0.  0.  0.  0.  0.]\n",
      "[[ 1.  1.  1.  1.]\n",
      " [ 1.  1.  1.  1.]]\n"
     ]
    }
   ],
   "source": [
    "# Other ways to create an array:\n",
    "print (np.zeros(5))\n",
    "print (np.ones(8).reshape(2,4))"
   ]
  },
  {
   "cell_type": "code",
   "execution_count": 44,
   "metadata": {
    "collapsed": false
   },
   "outputs": [
    {
     "name": "stdout",
     "output_type": "stream",
     "text": [
      "[ 3.19525402  3.86075747  3.4110535   3.17953273  2.6946192   3.58357645\n",
      "  2.75034885  4.567092    4.85465104  2.53376608]\n",
      "[ 1.56889614  0.75267411  0.83943285  2.59825415  0.07368535]\n"
     ]
    }
   ],
   "source": [
    "# Radom numbers\n",
    "rng = np.random.RandomState(0)  # the seed is zero\n",
    "print(rng.uniform(1,5,10))   # 10 random uniform numbers from 1 to 5\n",
    "print (rng.exponential(1,5)) # 5 random exp numbers with rate 1"
   ]
  },
  {
   "cell_type": "code",
   "execution_count": 45,
   "metadata": {
    "collapsed": false
   },
   "outputs": [
    {
     "name": "stdout",
     "output_type": "stream",
     "text": [
      "[[ 0.79367369  0.11808361  0.08561092  0.16551397]\n",
      " [ 0.95734802  0.01997461  0.19161898  0.46989086]]\n"
     ]
    }
   ],
   "source": [
    "print (np.random.random(8).reshape(2,4)) #8 random 0-1 in a 2 x 4 array\n",
    "# https://docs.scipy.org/doc/numpy-1.12.0/reference/routines.random.html"
   ]
  },
  {
   "cell_type": "code",
   "execution_count": 46,
   "metadata": {
    "collapsed": false
   },
   "outputs": [
    {
     "name": "stdout",
     "output_type": "stream",
     "text": [
      "[ 0.          0.55555556  1.11111111  1.66666667  2.22222222  2.77777778\n",
      "  3.33333333  3.88888889  4.44444444  5.        ]\n"
     ]
    }
   ],
   "source": [
    "# linspace: this is how you fill a number an array \n",
    "# with numbers from a to b with n equally spaced numbers (inclusive)\n",
    "\n",
    "data = np.linspace(0,5,10)\n",
    "print (data)\n"
   ]
  },
  {
   "cell_type": "code",
   "execution_count": 47,
   "metadata": {
    "collapsed": false
   },
   "outputs": [
    {
     "name": "stdout",
     "output_type": "stream",
     "text": [
      "x =  [ 0.          0.6981317   1.3962634   2.0943951   2.7925268   3.4906585\n",
      "  4.1887902   4.88692191  5.58505361  6.28318531]\n",
      "sin(x) =  [  0.00000000e+00   6.42787610e-01   9.84807753e-01   8.66025404e-01\n",
      "   3.42020143e-01  -3.42020143e-01  -8.66025404e-01  -9.84807753e-01\n",
      "  -6.42787610e-01  -2.44929360e-16]\n"
     ]
    }
   ],
   "source": [
    "from numpy import pi\n",
    "x = np.linspace(0,2*pi, 10)\n",
    "print (\"x = \",x)\n",
    "print (\"sin(x) = \", np.sin(x))"
   ]
  },
  {
   "cell_type": "code",
   "execution_count": 48,
   "metadata": {
    "collapsed": false
   },
   "outputs": [
    {
     "name": "stdout",
     "output_type": "stream",
     "text": [
      "[ 0  1  2  3  4  5  6  7  8  9 10 11 12 13 14 15 16 17 18 19 20 21 22 23 24]\n",
      "[ 5  7  9 11 13]\n",
      "[15 14 13 12 11 10  9  8  7  6]\n"
     ]
    }
   ],
   "source": [
    "# more slicing\n",
    "x = np.array(range(25))\n",
    "print (x)\n",
    "print (x[5:15:2])\n",
    "print (x[15:5:-1])\n"
   ]
  },
  {
   "cell_type": "code",
   "execution_count": 49,
   "metadata": {
    "collapsed": false
   },
   "outputs": [
    {
     "name": "stdout",
     "output_type": "stream",
     "text": [
      "[10 11 12 13 14 15 16 17 18 19]\n",
      "[0 0 0 0 0 0 0 0 0 0]\n"
     ]
    }
   ],
   "source": [
    "# take a slice from 10 to 19 and call it x1\n",
    "x1 = x[10:20]\n",
    "print (x1)\n",
    "\n",
    "#x1 is. shallow copy, its just a window into the original x\n",
    "x1[:] = 0\n",
    "print (x1)\n"
   ]
  },
  {
   "cell_type": "code",
   "execution_count": 50,
   "metadata": {
    "collapsed": false
   },
   "outputs": [
    {
     "name": "stdout",
     "output_type": "stream",
     "text": [
      "[ 0  1  2  3  4  5  6  7  8  9  0  0  0  0  0  0  0  0  0  0 20 21 22 23 24]\n"
     ]
    }
   ],
   "source": [
    "# what happens to x\n",
    "print (x)"
   ]
  },
  {
   "cell_type": "code",
   "execution_count": 51,
   "metadata": {
    "collapsed": false
   },
   "outputs": [
    {
     "name": "stdout",
     "output_type": "stream",
     "text": [
      "[[1 2 3]\n",
      " [4 5 6]\n",
      " [7 8 9]]\n",
      "---\n",
      "[[4 5 6]\n",
      " [7 8 9]]\n"
     ]
    }
   ],
   "source": [
    "# if you actually need to delete a row or column, look up numpy.delete\n",
    "x = np.array([[1,2,3],[4,5,6],[7,8,9]])\n",
    "print(x)\n",
    "print (\"---\")\n",
    "x = np.delete(x,0,axis=0)\n",
    "print (x)\n"
   ]
  },
  {
   "cell_type": "code",
   "execution_count": 52,
   "metadata": {
    "collapsed": false
   },
   "outputs": [
    {
     "name": "stdout",
     "output_type": "stream",
     "text": [
      "[ 0  1  2  3  4  5  6  7  8  9 10 11 12 13 14 15 16 17 18 19 20 21 22 23 24]\n",
      "[0 0 0 0 0 0 0 0 0 0 0 0 0 0 0 0 0 0 0 0 0 0 0 0 0]\n"
     ]
    },
    {
     "data": {
      "text/plain": [
       "True"
      ]
     },
     "execution_count": 52,
     "metadata": {},
     "output_type": "execute_result"
    }
   ],
   "source": [
    "# same thing with assignment, its not a copy, its the same data\n",
    "x = np.array(range(25))\n",
    "print (x)\n",
    "y = x\n",
    "y[:] = 0\n",
    "print (x)\n",
    "x is y"
   ]
  },
  {
   "cell_type": "code",
   "execution_count": 53,
   "metadata": {
    "collapsed": false
   },
   "outputs": [
    {
     "name": "stdout",
     "output_type": "stream",
     "text": [
      "[ 0  1  2  3  4  5  6  7  8  9 10 11 12 13 14 15 16 17 18 19 20 21 22 23 24]\n",
      "[ 0  1  2  3  4  5  6  7  8  9 10 11 12 13 14 15 16 17 18 19 20 21 22 23 24]\n"
     ]
    },
    {
     "data": {
      "text/plain": [
       "False"
      ]
     },
     "execution_count": 53,
     "metadata": {},
     "output_type": "execute_result"
    }
   ],
   "source": [
    "# If you want an actual copy: use a deep copy\n",
    "x = np.array(range(25))\n",
    "print (x)\n",
    "y = x.copy()\n",
    "y[:] = 0\n",
    "print (x)\n",
    "x is y"
   ]
  },
  {
   "cell_type": "code",
   "execution_count": 54,
   "metadata": {
    "collapsed": false
   },
   "outputs": [
    {
     "name": "stdout",
     "output_type": "stream",
     "text": [
      "[[ 0  1  2  3  4  5]\n",
      " [ 6  7  8  9 10 11]\n",
      " [12 13 14 15 16 17]\n",
      " [18 19 20 21 22 23]]\n",
      "[ 0  1  2  3  4  5  6  7  8  9 10 11 12 13 14 15 16 17 18 19 20 21 22 23]\n",
      "[[ 0  1  2  3]\n",
      " [ 4  5  6  7]\n",
      " [ 8  9 10 11]\n",
      " [12 13 14 15]\n",
      " [16 17 18 19]\n",
      " [20 21 22 23]]\n"
     ]
    }
   ],
   "source": [
    "# flatten using ravel()\n",
    "x = np.array(range(24))\n",
    "x = x.reshape(4,6)\n",
    "print(x)\n",
    "\n",
    "x = x.ravel() # make it flat\n",
    "print (x)\n",
    "\n",
    "x = x.reshape(6,4)\n",
    "print (x)"
   ]
  },
  {
   "cell_type": "markdown",
   "metadata": {},
   "source": [
    "# HW Section "
   ]
  },
  {
   "cell_type": "markdown",
   "metadata": {},
   "source": [
    "## Numpy Introduction\n",
    "\n",
    "1a) Create two numpy arrays (a and b). a should be all integers between 10-19 (inclusive), and b should be ten evenly spaced numbers between 1-7. Print all the results below:\n",
    "* Square all the elements in both arrays (element-wise)\n",
    "* Add both the squared arrays (e.g., [1,2] + [3,4] = [4,6])\n",
    "* Sum the elements with even indices of the added array.\n",
    "* Take the square root of the added array (element-wise square root)\n",
    "\n"
   ]
  },
  {
   "cell_type": "code",
   "execution_count": 31,
   "metadata": {
    "collapsed": false
   },
   "outputs": [
    {
     "name": "stdout",
     "output_type": "stream",
     "text": [
      "Square all elements\n",
      "[100 121 144 169 196 225 256 289 324 361]\n",
      "[  1.           2.77777778   5.44444444   9.          13.44444444\n",
      "  18.77777778  25.          32.11111111  40.11111111  49.        ]\n",
      "\n",
      "Add both the squared arrays\n",
      "[ 101.          123.77777778  149.44444444  178.          209.44444444\n",
      "  243.77777778  281.          321.11111111  364.11111111  410.        ]\n",
      "\n",
      "Sum the elements with even indices of the added array\n",
      "1105.0\n",
      "\n",
      "Take the square root of the added array (element-wise square root)\n",
      "[ 10.04987562  11.12554618  12.22474721  13.34166406  14.47219556\n",
      "  15.61338457  16.76305461  17.91957341  19.08169571  20.24845673]\n"
     ]
    }
   ],
   "source": [
    "import numpy as np\n",
    "a = np.arange(10,20)\n",
    "b = np.linspace(1,7,10)\n",
    "print('Square all elements')\n",
    "print(np.square(a))\n",
    "print(np.square(b))\n",
    "print()\n",
    "print('Add both the squared arrays')\n",
    "add_square = np.add(np.square(a),np.square(b))\n",
    "print(np.add(np.square(a),np.square(b)))\n",
    "\n",
    "# M = [x for x.index() in S if x % 2 == 0]\n",
    "i = [0,2,4,6,8]\n",
    "sum_even = np.sum(add_square[i])   \n",
    "\n",
    "print()\n",
    "print('Sum the elements with even indices of the added array')\n",
    "print(sum_even)\n",
    "\n",
    "print()\n",
    "print('Take the square root of the added array (element-wise square root)')\n",
    "print(np.sqrt(add_square))"
   ]
  },
  {
   "cell_type": "markdown",
   "metadata": {},
   "source": [
    "1b) Append b to a, reshape the appended array so that it is a 5x4, 2d array and store the results in a variable called m. Print m.\n"
   ]
  },
  {
   "cell_type": "code",
   "execution_count": 38,
   "metadata": {
    "collapsed": false
   },
   "outputs": [
    {
     "name": "stdout",
     "output_type": "stream",
     "text": [
      "[[ 10.          11.          12.          13.        ]\n",
      " [ 14.          15.          16.          17.        ]\n",
      " [ 18.          19.           1.           1.66666667]\n",
      " [  2.33333333   3.           3.66666667   4.33333333]\n",
      " [  5.           5.66666667   6.33333333   7.        ]]\n"
     ]
    }
   ],
   "source": [
    "m = np.append(a,b)\n",
    "m = m.reshape(5,4)\n",
    "print(m)"
   ]
  },
  {
   "cell_type": "markdown",
   "metadata": {},
   "source": [
    "1c) Extract the second and the third column of the m matrix. Store the resulting 5x2 matrix in a new variable called m2. Print m2.\n"
   ]
  },
  {
   "cell_type": "code",
   "execution_count": 40,
   "metadata": {
    "collapsed": false
   },
   "outputs": [
    {
     "name": "stdout",
     "output_type": "stream",
     "text": [
      "[[ 11.          12.        ]\n",
      " [ 15.          16.        ]\n",
      " [ 19.           1.        ]\n",
      " [  3.           3.66666667]\n",
      " [  5.66666667   6.33333333]]\n"
     ]
    }
   ],
   "source": [
    "m2 = m[:,[1,2]]\n",
    "print(m2)"
   ]
  },
  {
   "cell_type": "markdown",
   "metadata": {},
   "source": [
    "1d) Take the dot product of m2T and m store the results in a matrix called m3. Print m3.\n"
   ]
  },
  {
   "cell_type": "code",
   "execution_count": 44,
   "metadata": {
    "collapsed": false
   },
   "outputs": [
    {
     "name": "stdout",
     "output_type": "stream",
     "text": [
      "[[ 697.33333333  402.22222222]\n",
      " [ 748.11111111  437.88888889]\n",
      " [ 437.88888889  454.55555556]\n",
      " [ 482.33333333  489.88888889]]\n"
     ]
    }
   ],
   "source": [
    "m3 = np.dot(np.transpose(m),m2)\n",
    "print(m3)"
   ]
  },
  {
   "cell_type": "markdown",
   "metadata": {},
   "source": [
    "1e) Round the m3 matrix to two decimal points. Store the result in place and print the new m3.\n"
   ]
  },
  {
   "cell_type": "code",
   "execution_count": 46,
   "metadata": {
    "collapsed": false
   },
   "outputs": [
    {
     "name": "stdout",
     "output_type": "stream",
     "text": [
      "[[ 697.33  402.22]\n",
      " [ 748.11  437.89]\n",
      " [ 437.89  454.56]\n",
      " [ 482.33  489.89]]\n"
     ]
    }
   ],
   "source": [
    "m3 = m3.round(2)\n",
    "print(m3)"
   ]
  },
  {
   "cell_type": "markdown",
   "metadata": {},
   "source": [
    "1f) Sort the m3 array so that the highest value is at the top left, the next highest value to the right of the highest, and the lowest value is at the bottom right. Print the sorted m3 array.\n"
   ]
  },
  {
   "cell_type": "code",
   "execution_count": 165,
   "metadata": {
    "collapsed": false
   },
   "outputs": [
    {
     "name": "stdout",
     "output_type": "stream",
     "text": [
      "[[ 748.11  697.33]\n",
      " [ 489.89  482.33]\n",
      " [ 454.56  437.89]\n",
      " [ 437.89  402.22]]\n"
     ]
    }
   ],
   "source": [
    "kl = np.ravel(m3)\n",
    "kl = -np.sort(-kl)\n",
    "kl = kl.reshape(4,2)\n",
    "print(kl)"
   ]
  },
  {
   "cell_type": "markdown",
   "metadata": {},
   "source": [
    "## NumPy and Masks\n",
    "2a) create an array called 'f' where the values are sin(x) for x from 0 to pi with 100 values in f\n",
    "* print f\n",
    "* use a 'mask' and print an array that is True when f >= 1/2 and False when f < 1/2\n",
    "* create and print an array sequence that has only those values where f>= 1/2\n",
    "\n"
   ]
  },
  {
   "cell_type": "code",
   "execution_count": 93,
   "metadata": {
    "collapsed": false
   },
   "outputs": [
    {
     "name": "stdout",
     "output_type": "stream",
     "text": [
      "f matrix\n",
      "[  0.00000000e+00   3.17279335e-02   6.34239197e-02   9.50560433e-02\n",
      "   1.26592454e-01   1.58001396e-01   1.89251244e-01   2.20310533e-01\n",
      "   2.51147987e-01   2.81732557e-01   3.12033446e-01   3.42020143e-01\n",
      "   3.71662456e-01   4.00930535e-01   4.29794912e-01   4.58226522e-01\n",
      "   4.86196736e-01   5.13677392e-01   5.40640817e-01   5.67059864e-01\n",
      "   5.92907929e-01   6.18158986e-01   6.42787610e-01   6.66769001e-01\n",
      "   6.90079011e-01   7.12694171e-01   7.34591709e-01   7.55749574e-01\n",
      "   7.76146464e-01   7.95761841e-01   8.14575952e-01   8.32569855e-01\n",
      "   8.49725430e-01   8.66025404e-01   8.81453363e-01   8.95993774e-01\n",
      "   9.09631995e-01   9.22354294e-01   9.34147860e-01   9.45000819e-01\n",
      "   9.54902241e-01   9.63842159e-01   9.71811568e-01   9.78802446e-01\n",
      "   9.84807753e-01   9.89821442e-01   9.93838464e-01   9.96854776e-01\n",
      "   9.98867339e-01   9.99874128e-01   9.99874128e-01   9.98867339e-01\n",
      "   9.96854776e-01   9.93838464e-01   9.89821442e-01   9.84807753e-01\n",
      "   9.78802446e-01   9.71811568e-01   9.63842159e-01   9.54902241e-01\n",
      "   9.45000819e-01   9.34147860e-01   9.22354294e-01   9.09631995e-01\n",
      "   8.95993774e-01   8.81453363e-01   8.66025404e-01   8.49725430e-01\n",
      "   8.32569855e-01   8.14575952e-01   7.95761841e-01   7.76146464e-01\n",
      "   7.55749574e-01   7.34591709e-01   7.12694171e-01   6.90079011e-01\n",
      "   6.66769001e-01   6.42787610e-01   6.18158986e-01   5.92907929e-01\n",
      "   5.67059864e-01   5.40640817e-01   5.13677392e-01   4.86196736e-01\n",
      "   4.58226522e-01   4.29794912e-01   4.00930535e-01   3.71662456e-01\n",
      "   3.42020143e-01   3.12033446e-01   2.81732557e-01   2.51147987e-01\n",
      "   2.20310533e-01   1.89251244e-01   1.58001396e-01   1.26592454e-01\n",
      "   9.50560433e-02   6.34239197e-02   3.17279335e-02   1.22464680e-16]\n",
      "\n",
      "mask\n",
      "[False False False False False False False False False False False False\n",
      " False False False False False  True  True  True  True  True  True  True\n",
      "  True  True  True  True  True  True  True  True  True  True  True  True\n",
      "  True  True  True  True  True  True  True  True  True  True  True  True\n",
      "  True  True  True  True  True  True  True  True  True  True  True  True\n",
      "  True  True  True  True  True  True  True  True  True  True  True  True\n",
      "  True  True  True  True  True  True  True  True  True  True  True False\n",
      " False False False False False False False False False False False False\n",
      " False False False False]\n",
      "\n",
      "create and print an array sequence that has only those values where f>= 1/2\n",
      "[ 0.51367739  0.54064082  0.56705986  0.59290793  0.61815899  0.64278761\n",
      "  0.666769    0.69007901  0.71269417  0.73459171  0.75574957  0.77614646\n",
      "  0.79576184  0.81457595  0.83256985  0.84972543  0.8660254   0.88145336\n",
      "  0.89599377  0.909632    0.92235429  0.93414786  0.94500082  0.95490224\n",
      "  0.96384216  0.97181157  0.97880245  0.98480775  0.98982144  0.99383846\n",
      "  0.99685478  0.99886734  0.99987413  0.99987413  0.99886734  0.99685478\n",
      "  0.99383846  0.98982144  0.98480775  0.97880245  0.97181157  0.96384216\n",
      "  0.95490224  0.94500082  0.93414786  0.92235429  0.909632    0.89599377\n",
      "  0.88145336  0.8660254   0.84972543  0.83256985  0.81457595  0.79576184\n",
      "  0.77614646  0.75574957  0.73459171  0.71269417  0.69007901  0.666769\n",
      "  0.64278761  0.61815899  0.59290793  0.56705986  0.54064082  0.51367739]\n"
     ]
    }
   ],
   "source": [
    "x = np.linspace(0,np.pi,100)\n",
    "f = np.sin(x)\n",
    "print('f matrix')\n",
    "print(f)\n",
    "print()\n",
    "mask = (f>=.5)\n",
    "print('mask')\n",
    "print(mask)\n",
    "\n",
    "seq = f[np.where(mask==True)]\n",
    "print()\n",
    "print('create and print an array sequence that has only those values where f>= 1/2')\n",
    "print(seq)"
   ]
  },
  {
   "cell_type": "markdown",
   "metadata": {
    "collapsed": true
   },
   "source": [
    "## NumPy and 2 Variable Prediction"
   ]
  },
  {
   "cell_type": "markdown",
   "metadata": {},
   "source": [
    "Lets make 2 numpy arrays each of size 100\n",
    "x will be from 1 to 10 with a uniform noise (0,1/2)\n",
    "y will be from 1 to 20 with a uniform noise (0,1)\n",
    "This has already been done for you just below:"
   ]
  },
  {
   "cell_type": "code",
   "execution_count": 95,
   "metadata": {
    "collapsed": false
   },
   "outputs": [
    {
     "name": "stdout",
     "output_type": "stream",
     "text": [
      "x =  [  1.31526592   1.44522136   1.53760299   1.36370773   1.62301601\n",
      "   1.61585609   1.92415066   1.69118523   2.09666643   2.04576694\n",
      "   1.91350539   2.02917477   2.53799519   2.65590123   2.57611243\n",
      "   2.59910548   2.51307632   2.80128654   2.707467     2.77233212\n",
      "   3.05946438   3.33928794   3.30885136   3.21782272   3.45249516\n",
      "   3.300006     3.69513896   3.52771777   3.71724207   3.9135878\n",
      "   4.11892566   4.11355913   4.2426359    4.14521075   4.15539532\n",
      "   4.64431615   4.56928856   4.6154429    4.93288151   4.57113117\n",
      "   4.77757379   4.98008775   4.87372314   5.23408363   5.06484165\n",
      "   5.18950333   5.38440082   5.58827443   5.49425195   5.64203993\n",
      "   5.55364072   6.06059232   6.2186683    6.2782822    6.12774799\n",
      "   6.10364541   6.37017008   6.21257754   6.41037773   6.62571865\n",
      "   6.58367622   6.62553459   6.76756578   7.00582839   6.83463695\n",
      "   7.15438404   7.13338649   7.1598925    7.62755683   7.4429219\n",
      "   7.58874036   7.70764278   7.80145161   8.05643187   8.07045901\n",
      "   7.92126074   8.32675073   8.1754256    8.58302516   8.49173526\n",
      "   8.3883247    8.4070013    8.74183034   8.93570091   9.02429741\n",
      "   9.06184623   9.27550728   8.9297271    9.34014182   9.51882464\n",
      "   9.35225359   9.63890516   9.85687229   9.48528567   9.70241202\n",
      "  10.10119938   9.77196609  10.20650208  10.04616781  10.06043924]\n",
      "y=  [  1.79631686   1.20571301   2.0351115    2.26650268   2.16431142\n",
      "   2.21095816   2.74437505   2.68754133   2.93099375   3.46909089\n",
      "   2.99652462   3.82937445   3.97346591   3.92336396   3.7544406\n",
      "   4.39156977   4.61843099   4.92963732   4.65526258   5.50734749\n",
      "   5.15126674   5.61078624   5.46846097   5.91013383   6.5881338\n",
      "   6.42143138   6.47649246   6.73882038   6.87439095   7.39984737\n",
      "   7.08490409   7.47191184   7.49371039   7.35140243   8.37591827\n",
      "   8.61572509   8.31045573   9.07584284   8.74078452   9.34246617\n",
      "   8.94541616   9.40441155   9.78920258   9.93264185  10.11173116\n",
      "  10.58517236  10.42860396  10.99560114  10.88555141  11.22219571\n",
      "  11.51666072  11.02767264  11.31261135  11.75868758  11.78221543\n",
      "  11.95915246  11.84847524  12.24209277  13.09842975  12.86944635\n",
      "  13.03438443  13.26182927  12.96141647  13.31027802  13.47703889\n",
      "  14.09712021  14.06488716  13.87771416  14.7366846   15.23654109\n",
      "  14.93276173  15.29238884  15.79789206  15.74046459  15.3184951\n",
      "  16.2292316   16.21558626  16.000564    15.97527281  16.97542649\n",
      "  16.51930477  17.50878795  16.98904179  17.65045421  17.13337488\n",
      "  17.44426298  17.87556359  17.95060831  18.7969806   18.9863357\n",
      "  18.31825072  19.39889066  19.55154835  19.79171597  19.9685957\n",
      "  19.94008473  19.76051342  20.14002474  20.66949567  20.0132135 ]\n"
     ]
    }
   ],
   "source": [
    "x = np.linspace(1,10,100)+ np.random.random(100) /2\n",
    "y = np.linspace(1,20,100)+np.random.random(100) \n",
    "print ('x = ',x)\n",
    "print ('y= ',y)"
   ]
  },
  {
   "cell_type": "markdown",
   "metadata": {},
   "source": [
    "3a) Find Expected value of x and the expected value of y"
   ]
  },
  {
   "cell_type": "code",
   "execution_count": 96,
   "metadata": {
    "collapsed": false
   },
   "outputs": [
    {
     "name": "stdout",
     "output_type": "stream",
     "text": [
      "expected value of x\n",
      "5.73498510235\n",
      "\n",
      "expected value of y\n",
      "11.0325221602\n"
     ]
    }
   ],
   "source": [
    "exp_x  = np.mean(x)\n",
    "exp_y = np.mean(y)\n",
    "print('expected value of x')\n",
    "print(exp_x)\n",
    "print()\n",
    "print('expected value of y')\n",
    "print(exp_y)"
   ]
  },
  {
   "cell_type": "markdown",
   "metadata": {},
   "source": [
    "3b) write code that uses a linear predictor to calculate a predicted value of y for each x\n",
    "ie y_predicted = f(x).  "
   ]
  },
  {
   "cell_type": "code",
   "execution_count": 118,
   "metadata": {
    "collapsed": false
   },
   "outputs": [
    {
     "name": "stdout",
     "output_type": "stream",
     "text": [
      "y = (2.103002)x + (-1.028165)\n"
     ]
    }
   ],
   "source": [
    "m = sum((x - exp_x)*(y - exp_y)) / sum(np.square(x - exp_x))\n",
    "b = exp_y - m * exp_x\n",
    "print('y = ({:>5f})x + ({:>5f})'.format(m,b))"
   ]
  },
  {
   "cell_type": "markdown",
   "metadata": {},
   "source": [
    "3c) predict y for each value in x, pur the error into an array called y-error"
   ]
  },
  {
   "cell_type": "code",
   "execution_count": 125,
   "metadata": {
    "collapsed": false
   },
   "outputs": [
    {
     "name": "stdout",
     "output_type": "stream",
     "text": [
      "[ -5.84747018e-02   8.05425747e-01   1.70306049e-01  -4.26787276e-01\n",
      "   2.20729901e-01   1.59025839e-01   2.73953167e-01  -1.59139956e-01\n",
      "   4.50135548e-01  -1.95003334e-01  -5.83442354e-04  -5.90180279e-01\n",
      "   3.35778825e-01   6.33837457e-01   6.34964784e-01   4.61900419e-02\n",
      "  -3.61590699e-01  -6.66902442e-02   1.03817698e-02  -7.05291641e-01\n",
      "   2.54628951e-01   3.83579054e-01   4.61896129e-01  -1.71210185e-01\n",
      "  -3.55693448e-01  -5.09676097e-01   2.66228388e-01  -3.48186685e-01\n",
      "  -8.51872023e-02  -1.97728091e-01   5.49041193e-01   1.50747630e-01\n",
      "   4.00397820e-01   3.37820472e-01  -6.65277201e-01   1.23117645e-01\n",
      "   2.70603811e-01  -3.97720613e-01   6.04911867e-01  -7.57531618e-01\n",
      "   7.36677180e-02   4.05596654e-02  -5.67916386e-01   4.64833012e-02\n",
      "  -4.88522279e-01  -6.99799681e-01  -1.33361395e-01  -2.71611874e-01\n",
      "  -3.59291648e-01  -3.85137476e-01  -8.65506217e-01   6.89602274e-01\n",
      "   7.37097724e-01   4.16389690e-01   7.62880272e-02  -1.51336784e-01\n",
      "   5.19842439e-01  -2.05192579e-01  -6.45555269e-01   3.62905981e-02\n",
      "  -2.17062816e-01  -3.56479416e-01   2.42625329e-01   3.94830627e-01\n",
      "  -1.31946265e-01  -7.95986930e-02  -9.15235435e-02   1.51391656e-01\n",
      "   2.75920441e-01  -6.12223763e-01  -1.78783669e-03  -1.11362857e-01\n",
      "  -4.19585888e-01   1.74065681e-01   6.25534281e-01  -5.98966560e-01\n",
      "   2.67425211e-01   1.64210362e-01   1.04668440e+00  -1.45452167e-01\n",
      "   9.31968981e-02  -8.57009351e-01   3.66883085e-01   1.13180950e-01\n",
      "   8.16578928e-01   5.84656078e-01   6.02685168e-01  -1.99536098e-01\n",
      "  -1.82805244e-01   3.61005123e-03   3.21395715e-01  -1.56415297e-01\n",
      "   1.49312411e-01  -8.72302759e-01  -5.92565254e-01   2.74596504e-01\n",
      "  -2.38210604e-01   2.96108316e-01  -5.70545970e-01   1.15749064e-01]\n"
     ]
    }
   ],
   "source": [
    "pre_y = m*x+b\n",
    "y_error = pre_y - y\n",
    "print(y_error)"
   ]
  },
  {
   "cell_type": "markdown",
   "metadata": {},
   "source": [
    "3d) write code that calculates the mean square, that is average of y-error squared"
   ]
  },
  {
   "cell_type": "code",
   "execution_count": 133,
   "metadata": {
    "collapsed": false
   },
   "outputs": [
    {
     "name": "stdout",
     "output_type": "stream",
     "text": [
      "Root mean Square error\n",
      "0.422506100904\n"
     ]
    }
   ],
   "source": [
    "rms_error = np.sqrt(sum(y_error ** 2)/len(y))\n",
    "print('Root mean Square error')\n",
    "print(rms_error)"
   ]
  }
 ],
 "metadata": {
  "anaconda-cloud": {},
  "kernelspec": {
   "display_name": "Python [default]",
   "language": "python",
   "name": "python3"
  },
  "language_info": {
   "codemirror_mode": {
    "name": "ipython",
    "version": 3
   },
   "file_extension": ".py",
   "mimetype": "text/x-python",
   "name": "python",
   "nbconvert_exporter": "python",
   "pygments_lexer": "ipython3",
   "version": "3.5.2"
  }
 },
 "nbformat": 4,
 "nbformat_minor": 1
}
